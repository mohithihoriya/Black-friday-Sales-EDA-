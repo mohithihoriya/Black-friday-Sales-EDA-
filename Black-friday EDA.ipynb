{
 "cells": [
  {
   "cell_type": "markdown",
   "id": "b0a8d23f",
   "metadata": {},
   "source": [
    "# Importing libraries"
   ]
  },
  {
   "cell_type": "code",
   "execution_count": 68,
   "id": "40f1a3d0",
   "metadata": {},
   "outputs": [],
   "source": [
    "import numpy as np\n",
    "import pandas as pd"
   ]
  },
  {
   "cell_type": "markdown",
   "id": "6aeb5787",
   "metadata": {},
   "source": [
    "# Data cleaning"
   ]
  },
  {
   "cell_type": "markdown",
   "id": "d56cea3e",
   "metadata": {},
   "source": [
    "Read the dataset"
   ]
  },
  {
   "cell_type": "code",
   "execution_count": 69,
   "id": "266a1de0",
   "metadata": {},
   "outputs": [
    {
     "data": {
      "text/html": [
       "<div>\n",
       "<style scoped>\n",
       "    .dataframe tbody tr th:only-of-type {\n",
       "        vertical-align: middle;\n",
       "    }\n",
       "\n",
       "    .dataframe tbody tr th {\n",
       "        vertical-align: top;\n",
       "    }\n",
       "\n",
       "    .dataframe thead th {\n",
       "        text-align: right;\n",
       "    }\n",
       "</style>\n",
       "<table border=\"1\" class=\"dataframe\">\n",
       "  <thead>\n",
       "    <tr style=\"text-align: right;\">\n",
       "      <th></th>\n",
       "      <th>User_ID</th>\n",
       "      <th>Product_ID</th>\n",
       "      <th>Gender</th>\n",
       "      <th>Age</th>\n",
       "      <th>Occupation</th>\n",
       "      <th>City_Category</th>\n",
       "      <th>Stay_In_Current_City_Years</th>\n",
       "      <th>Marital_Status</th>\n",
       "      <th>Product_Category_1</th>\n",
       "      <th>Product_Category_2</th>\n",
       "      <th>Product_Category_3</th>\n",
       "      <th>Purchase</th>\n",
       "    </tr>\n",
       "  </thead>\n",
       "  <tbody>\n",
       "    <tr>\n",
       "      <th>0</th>\n",
       "      <td>1000001</td>\n",
       "      <td>P00069042</td>\n",
       "      <td>F</td>\n",
       "      <td>0-17</td>\n",
       "      <td>10</td>\n",
       "      <td>A</td>\n",
       "      <td>2</td>\n",
       "      <td>0</td>\n",
       "      <td>3</td>\n",
       "      <td>NaN</td>\n",
       "      <td>NaN</td>\n",
       "      <td>8370</td>\n",
       "    </tr>\n",
       "    <tr>\n",
       "      <th>1</th>\n",
       "      <td>1000001</td>\n",
       "      <td>P00248942</td>\n",
       "      <td>F</td>\n",
       "      <td>0-17</td>\n",
       "      <td>10</td>\n",
       "      <td>A</td>\n",
       "      <td>2</td>\n",
       "      <td>0</td>\n",
       "      <td>1</td>\n",
       "      <td>6.0</td>\n",
       "      <td>14.0</td>\n",
       "      <td>15200</td>\n",
       "    </tr>\n",
       "    <tr>\n",
       "      <th>2</th>\n",
       "      <td>1000001</td>\n",
       "      <td>P00087842</td>\n",
       "      <td>F</td>\n",
       "      <td>0-17</td>\n",
       "      <td>10</td>\n",
       "      <td>A</td>\n",
       "      <td>2</td>\n",
       "      <td>0</td>\n",
       "      <td>12</td>\n",
       "      <td>NaN</td>\n",
       "      <td>NaN</td>\n",
       "      <td>1422</td>\n",
       "    </tr>\n",
       "    <tr>\n",
       "      <th>3</th>\n",
       "      <td>1000001</td>\n",
       "      <td>P00085442</td>\n",
       "      <td>F</td>\n",
       "      <td>0-17</td>\n",
       "      <td>10</td>\n",
       "      <td>A</td>\n",
       "      <td>2</td>\n",
       "      <td>0</td>\n",
       "      <td>12</td>\n",
       "      <td>14.0</td>\n",
       "      <td>NaN</td>\n",
       "      <td>1057</td>\n",
       "    </tr>\n",
       "    <tr>\n",
       "      <th>4</th>\n",
       "      <td>1000002</td>\n",
       "      <td>P00285442</td>\n",
       "      <td>M</td>\n",
       "      <td>55+</td>\n",
       "      <td>16</td>\n",
       "      <td>C</td>\n",
       "      <td>4+</td>\n",
       "      <td>0</td>\n",
       "      <td>8</td>\n",
       "      <td>NaN</td>\n",
       "      <td>NaN</td>\n",
       "      <td>7969</td>\n",
       "    </tr>\n",
       "    <tr>\n",
       "      <th>...</th>\n",
       "      <td>...</td>\n",
       "      <td>...</td>\n",
       "      <td>...</td>\n",
       "      <td>...</td>\n",
       "      <td>...</td>\n",
       "      <td>...</td>\n",
       "      <td>...</td>\n",
       "      <td>...</td>\n",
       "      <td>...</td>\n",
       "      <td>...</td>\n",
       "      <td>...</td>\n",
       "      <td>...</td>\n",
       "    </tr>\n",
       "    <tr>\n",
       "      <th>550063</th>\n",
       "      <td>1006033</td>\n",
       "      <td>P00372445</td>\n",
       "      <td>M</td>\n",
       "      <td>51-55</td>\n",
       "      <td>13</td>\n",
       "      <td>B</td>\n",
       "      <td>1</td>\n",
       "      <td>1</td>\n",
       "      <td>20</td>\n",
       "      <td>NaN</td>\n",
       "      <td>NaN</td>\n",
       "      <td>368</td>\n",
       "    </tr>\n",
       "    <tr>\n",
       "      <th>550064</th>\n",
       "      <td>1006035</td>\n",
       "      <td>P00375436</td>\n",
       "      <td>F</td>\n",
       "      <td>26-35</td>\n",
       "      <td>1</td>\n",
       "      <td>C</td>\n",
       "      <td>3</td>\n",
       "      <td>0</td>\n",
       "      <td>20</td>\n",
       "      <td>NaN</td>\n",
       "      <td>NaN</td>\n",
       "      <td>371</td>\n",
       "    </tr>\n",
       "    <tr>\n",
       "      <th>550065</th>\n",
       "      <td>1006036</td>\n",
       "      <td>P00375436</td>\n",
       "      <td>F</td>\n",
       "      <td>26-35</td>\n",
       "      <td>15</td>\n",
       "      <td>B</td>\n",
       "      <td>4+</td>\n",
       "      <td>1</td>\n",
       "      <td>20</td>\n",
       "      <td>NaN</td>\n",
       "      <td>NaN</td>\n",
       "      <td>137</td>\n",
       "    </tr>\n",
       "    <tr>\n",
       "      <th>550066</th>\n",
       "      <td>1006038</td>\n",
       "      <td>P00375436</td>\n",
       "      <td>F</td>\n",
       "      <td>55+</td>\n",
       "      <td>1</td>\n",
       "      <td>C</td>\n",
       "      <td>2</td>\n",
       "      <td>0</td>\n",
       "      <td>20</td>\n",
       "      <td>NaN</td>\n",
       "      <td>NaN</td>\n",
       "      <td>365</td>\n",
       "    </tr>\n",
       "    <tr>\n",
       "      <th>550067</th>\n",
       "      <td>1006039</td>\n",
       "      <td>P00371644</td>\n",
       "      <td>F</td>\n",
       "      <td>46-50</td>\n",
       "      <td>0</td>\n",
       "      <td>B</td>\n",
       "      <td>4+</td>\n",
       "      <td>1</td>\n",
       "      <td>20</td>\n",
       "      <td>NaN</td>\n",
       "      <td>NaN</td>\n",
       "      <td>490</td>\n",
       "    </tr>\n",
       "  </tbody>\n",
       "</table>\n",
       "<p>550068 rows × 12 columns</p>\n",
       "</div>"
      ],
      "text/plain": [
       "        User_ID Product_ID Gender    Age  Occupation City_Category  \\\n",
       "0       1000001  P00069042      F   0-17          10             A   \n",
       "1       1000001  P00248942      F   0-17          10             A   \n",
       "2       1000001  P00087842      F   0-17          10             A   \n",
       "3       1000001  P00085442      F   0-17          10             A   \n",
       "4       1000002  P00285442      M    55+          16             C   \n",
       "...         ...        ...    ...    ...         ...           ...   \n",
       "550063  1006033  P00372445      M  51-55          13             B   \n",
       "550064  1006035  P00375436      F  26-35           1             C   \n",
       "550065  1006036  P00375436      F  26-35          15             B   \n",
       "550066  1006038  P00375436      F    55+           1             C   \n",
       "550067  1006039  P00371644      F  46-50           0             B   \n",
       "\n",
       "       Stay_In_Current_City_Years  Marital_Status  Product_Category_1  \\\n",
       "0                               2               0                   3   \n",
       "1                               2               0                   1   \n",
       "2                               2               0                  12   \n",
       "3                               2               0                  12   \n",
       "4                              4+               0                   8   \n",
       "...                           ...             ...                 ...   \n",
       "550063                          1               1                  20   \n",
       "550064                          3               0                  20   \n",
       "550065                         4+               1                  20   \n",
       "550066                          2               0                  20   \n",
       "550067                         4+               1                  20   \n",
       "\n",
       "        Product_Category_2  Product_Category_3  Purchase  \n",
       "0                      NaN                 NaN      8370  \n",
       "1                      6.0                14.0     15200  \n",
       "2                      NaN                 NaN      1422  \n",
       "3                     14.0                 NaN      1057  \n",
       "4                      NaN                 NaN      7969  \n",
       "...                    ...                 ...       ...  \n",
       "550063                 NaN                 NaN       368  \n",
       "550064                 NaN                 NaN       371  \n",
       "550065                 NaN                 NaN       137  \n",
       "550066                 NaN                 NaN       365  \n",
       "550067                 NaN                 NaN       490  \n",
       "\n",
       "[550068 rows x 12 columns]"
      ]
     },
     "execution_count": 69,
     "metadata": {},
     "output_type": "execute_result"
    }
   ],
   "source": [
    "black_fri=pd.read_csv('Black-friday.csv')\n",
    "black_fri"
   ]
  },
  {
   "cell_type": "code",
   "execution_count": 70,
   "id": "4f841cbe",
   "metadata": {},
   "outputs": [
    {
     "name": "stdout",
     "output_type": "stream",
     "text": [
      "<class 'pandas.core.frame.DataFrame'>\n",
      "RangeIndex: 550068 entries, 0 to 550067\n",
      "Data columns (total 12 columns):\n",
      " #   Column                      Non-Null Count   Dtype  \n",
      "---  ------                      --------------   -----  \n",
      " 0   User_ID                     550068 non-null  int64  \n",
      " 1   Product_ID                  550068 non-null  object \n",
      " 2   Gender                      550068 non-null  object \n",
      " 3   Age                         550068 non-null  object \n",
      " 4   Occupation                  550068 non-null  int64  \n",
      " 5   City_Category               550068 non-null  object \n",
      " 6   Stay_In_Current_City_Years  550068 non-null  object \n",
      " 7   Marital_Status              550068 non-null  int64  \n",
      " 8   Product_Category_1          550068 non-null  int64  \n",
      " 9   Product_Category_2          376430 non-null  float64\n",
      " 10  Product_Category_3          166821 non-null  float64\n",
      " 11  Purchase                    550068 non-null  int64  \n",
      "dtypes: float64(2), int64(5), object(5)\n",
      "memory usage: 50.4+ MB\n"
     ]
    }
   ],
   "source": [
    "black_fri.info()\n"
   ]
  },
  {
   "cell_type": "markdown",
   "id": "35be8080",
   "metadata": {},
   "source": [
    "In this dataset 12 columns & 550068 entries are there, some columns include NaN values,incorrect data types."
   ]
  },
  {
   "cell_type": "code",
   "execution_count": null,
   "id": "0014d07f",
   "metadata": {},
   "outputs": [],
   "source": []
  },
  {
   "cell_type": "markdown",
   "id": "2dd73cf9",
   "metadata": {},
   "source": [
    "1) Check basic statistics of dataset\n",
    "\n"
   ]
  },
  {
   "cell_type": "code",
   "execution_count": 71,
   "id": "78be0bd0",
   "metadata": {},
   "outputs": [
    {
     "data": {
      "text/html": [
       "<div>\n",
       "<style scoped>\n",
       "    .dataframe tbody tr th:only-of-type {\n",
       "        vertical-align: middle;\n",
       "    }\n",
       "\n",
       "    .dataframe tbody tr th {\n",
       "        vertical-align: top;\n",
       "    }\n",
       "\n",
       "    .dataframe thead th {\n",
       "        text-align: right;\n",
       "    }\n",
       "</style>\n",
       "<table border=\"1\" class=\"dataframe\">\n",
       "  <thead>\n",
       "    <tr style=\"text-align: right;\">\n",
       "      <th></th>\n",
       "      <th>User_ID</th>\n",
       "      <th>Occupation</th>\n",
       "      <th>Marital_Status</th>\n",
       "      <th>Product_Category_1</th>\n",
       "      <th>Product_Category_2</th>\n",
       "      <th>Product_Category_3</th>\n",
       "      <th>Purchase</th>\n",
       "    </tr>\n",
       "  </thead>\n",
       "  <tbody>\n",
       "    <tr>\n",
       "      <th>count</th>\n",
       "      <td>5.500680e+05</td>\n",
       "      <td>550068.000000</td>\n",
       "      <td>550068.000000</td>\n",
       "      <td>550068.000000</td>\n",
       "      <td>376430.000000</td>\n",
       "      <td>166821.000000</td>\n",
       "      <td>550068.000000</td>\n",
       "    </tr>\n",
       "    <tr>\n",
       "      <th>mean</th>\n",
       "      <td>1.003029e+06</td>\n",
       "      <td>8.076707</td>\n",
       "      <td>0.409653</td>\n",
       "      <td>5.404270</td>\n",
       "      <td>9.842329</td>\n",
       "      <td>12.668243</td>\n",
       "      <td>9263.968713</td>\n",
       "    </tr>\n",
       "    <tr>\n",
       "      <th>std</th>\n",
       "      <td>1.727592e+03</td>\n",
       "      <td>6.522660</td>\n",
       "      <td>0.491770</td>\n",
       "      <td>3.936211</td>\n",
       "      <td>5.086590</td>\n",
       "      <td>4.125338</td>\n",
       "      <td>5023.065394</td>\n",
       "    </tr>\n",
       "    <tr>\n",
       "      <th>min</th>\n",
       "      <td>1.000001e+06</td>\n",
       "      <td>0.000000</td>\n",
       "      <td>0.000000</td>\n",
       "      <td>1.000000</td>\n",
       "      <td>2.000000</td>\n",
       "      <td>3.000000</td>\n",
       "      <td>12.000000</td>\n",
       "    </tr>\n",
       "    <tr>\n",
       "      <th>25%</th>\n",
       "      <td>1.001516e+06</td>\n",
       "      <td>2.000000</td>\n",
       "      <td>0.000000</td>\n",
       "      <td>1.000000</td>\n",
       "      <td>5.000000</td>\n",
       "      <td>9.000000</td>\n",
       "      <td>5823.000000</td>\n",
       "    </tr>\n",
       "    <tr>\n",
       "      <th>50%</th>\n",
       "      <td>1.003077e+06</td>\n",
       "      <td>7.000000</td>\n",
       "      <td>0.000000</td>\n",
       "      <td>5.000000</td>\n",
       "      <td>9.000000</td>\n",
       "      <td>14.000000</td>\n",
       "      <td>8047.000000</td>\n",
       "    </tr>\n",
       "    <tr>\n",
       "      <th>75%</th>\n",
       "      <td>1.004478e+06</td>\n",
       "      <td>14.000000</td>\n",
       "      <td>1.000000</td>\n",
       "      <td>8.000000</td>\n",
       "      <td>15.000000</td>\n",
       "      <td>16.000000</td>\n",
       "      <td>12054.000000</td>\n",
       "    </tr>\n",
       "    <tr>\n",
       "      <th>max</th>\n",
       "      <td>1.006040e+06</td>\n",
       "      <td>20.000000</td>\n",
       "      <td>1.000000</td>\n",
       "      <td>20.000000</td>\n",
       "      <td>18.000000</td>\n",
       "      <td>18.000000</td>\n",
       "      <td>23961.000000</td>\n",
       "    </tr>\n",
       "  </tbody>\n",
       "</table>\n",
       "</div>"
      ],
      "text/plain": [
       "            User_ID     Occupation  Marital_Status  Product_Category_1  \\\n",
       "count  5.500680e+05  550068.000000   550068.000000       550068.000000   \n",
       "mean   1.003029e+06       8.076707        0.409653            5.404270   \n",
       "std    1.727592e+03       6.522660        0.491770            3.936211   \n",
       "min    1.000001e+06       0.000000        0.000000            1.000000   \n",
       "25%    1.001516e+06       2.000000        0.000000            1.000000   \n",
       "50%    1.003077e+06       7.000000        0.000000            5.000000   \n",
       "75%    1.004478e+06      14.000000        1.000000            8.000000   \n",
       "max    1.006040e+06      20.000000        1.000000           20.000000   \n",
       "\n",
       "       Product_Category_2  Product_Category_3       Purchase  \n",
       "count       376430.000000       166821.000000  550068.000000  \n",
       "mean             9.842329           12.668243    9263.968713  \n",
       "std              5.086590            4.125338    5023.065394  \n",
       "min              2.000000            3.000000      12.000000  \n",
       "25%              5.000000            9.000000    5823.000000  \n",
       "50%              9.000000           14.000000    8047.000000  \n",
       "75%             15.000000           16.000000   12054.000000  \n",
       "max             18.000000           18.000000   23961.000000  "
      ]
     },
     "execution_count": 71,
     "metadata": {},
     "output_type": "execute_result"
    }
   ],
   "source": [
    "black_fri.describe()\n"
   ]
  },
  {
   "cell_type": "markdown",
   "id": "8c81d7c2",
   "metadata": {},
   "source": [
    "2) Rename column"
   ]
  },
  {
   "cell_type": "code",
   "execution_count": 72,
   "id": "88cd87fc",
   "metadata": {},
   "outputs": [
    {
     "data": {
      "text/html": [
       "<div>\n",
       "<style scoped>\n",
       "    .dataframe tbody tr th:only-of-type {\n",
       "        vertical-align: middle;\n",
       "    }\n",
       "\n",
       "    .dataframe tbody tr th {\n",
       "        vertical-align: top;\n",
       "    }\n",
       "\n",
       "    .dataframe thead th {\n",
       "        text-align: right;\n",
       "    }\n",
       "</style>\n",
       "<table border=\"1\" class=\"dataframe\">\n",
       "  <thead>\n",
       "    <tr style=\"text-align: right;\">\n",
       "      <th></th>\n",
       "      <th>User_ID</th>\n",
       "      <th>Product_ID</th>\n",
       "      <th>Gender</th>\n",
       "      <th>Age</th>\n",
       "      <th>Occupation</th>\n",
       "      <th>city</th>\n",
       "      <th>years in city</th>\n",
       "      <th>Marital_Status</th>\n",
       "      <th>Product_Category_1</th>\n",
       "      <th>Product_Category_2</th>\n",
       "      <th>Product_Category_3</th>\n",
       "      <th>Purchase</th>\n",
       "    </tr>\n",
       "  </thead>\n",
       "  <tbody>\n",
       "    <tr>\n",
       "      <th>0</th>\n",
       "      <td>1000001</td>\n",
       "      <td>P00069042</td>\n",
       "      <td>F</td>\n",
       "      <td>0-17</td>\n",
       "      <td>10</td>\n",
       "      <td>A</td>\n",
       "      <td>2</td>\n",
       "      <td>0</td>\n",
       "      <td>3</td>\n",
       "      <td>NaN</td>\n",
       "      <td>NaN</td>\n",
       "      <td>8370</td>\n",
       "    </tr>\n",
       "    <tr>\n",
       "      <th>1</th>\n",
       "      <td>1000001</td>\n",
       "      <td>P00248942</td>\n",
       "      <td>F</td>\n",
       "      <td>0-17</td>\n",
       "      <td>10</td>\n",
       "      <td>A</td>\n",
       "      <td>2</td>\n",
       "      <td>0</td>\n",
       "      <td>1</td>\n",
       "      <td>6.0</td>\n",
       "      <td>14.0</td>\n",
       "      <td>15200</td>\n",
       "    </tr>\n",
       "  </tbody>\n",
       "</table>\n",
       "</div>"
      ],
      "text/plain": [
       "   User_ID Product_ID Gender   Age  Occupation city years in city  \\\n",
       "0  1000001  P00069042      F  0-17          10    A             2   \n",
       "1  1000001  P00248942      F  0-17          10    A             2   \n",
       "\n",
       "   Marital_Status  Product_Category_1  Product_Category_2  Product_Category_3  \\\n",
       "0               0                   3                 NaN                 NaN   \n",
       "1               0                   1                 6.0                14.0   \n",
       "\n",
       "   Purchase  \n",
       "0      8370  \n",
       "1     15200  "
      ]
     },
     "execution_count": 72,
     "metadata": {},
     "output_type": "execute_result"
    }
   ],
   "source": [
    "black_fri.rename(columns={'City_Category':'city','Stay_In_Current_City_Years':'years in city'},inplace=True)\n",
    "black_fri.head(2)\n"
   ]
  },
  {
   "cell_type": "markdown",
   "id": "50e741ad",
   "metadata": {},
   "source": [
    "3) Drop column"
   ]
  },
  {
   "cell_type": "markdown",
   "id": "3bf5109e",
   "metadata": {},
   "source": [
    "Every column is usefull so no need to drop any column."
   ]
  },
  {
   "cell_type": "code",
   "execution_count": null,
   "id": "d919f03a",
   "metadata": {},
   "outputs": [],
   "source": []
  },
  {
   "cell_type": "markdown",
   "id": "2ad09db0",
   "metadata": {},
   "source": [
    "4) Check for missing values in the data,missing value treatment,fill nan values."
   ]
  },
  {
   "cell_type": "code",
   "execution_count": 73,
   "id": "aae1fe91",
   "metadata": {},
   "outputs": [
    {
     "data": {
      "text/html": [
       "<div>\n",
       "<style scoped>\n",
       "    .dataframe tbody tr th:only-of-type {\n",
       "        vertical-align: middle;\n",
       "    }\n",
       "\n",
       "    .dataframe tbody tr th {\n",
       "        vertical-align: top;\n",
       "    }\n",
       "\n",
       "    .dataframe thead th {\n",
       "        text-align: right;\n",
       "    }\n",
       "</style>\n",
       "<table border=\"1\" class=\"dataframe\">\n",
       "  <thead>\n",
       "    <tr style=\"text-align: right;\">\n",
       "      <th></th>\n",
       "      <th>Nan Values</th>\n",
       "    </tr>\n",
       "  </thead>\n",
       "  <tbody>\n",
       "    <tr>\n",
       "      <th>Product_Category_3</th>\n",
       "      <td>383247</td>\n",
       "    </tr>\n",
       "    <tr>\n",
       "      <th>Product_Category_2</th>\n",
       "      <td>173638</td>\n",
       "    </tr>\n",
       "    <tr>\n",
       "      <th>User_ID</th>\n",
       "      <td>0</td>\n",
       "    </tr>\n",
       "    <tr>\n",
       "      <th>Product_ID</th>\n",
       "      <td>0</td>\n",
       "    </tr>\n",
       "    <tr>\n",
       "      <th>Gender</th>\n",
       "      <td>0</td>\n",
       "    </tr>\n",
       "    <tr>\n",
       "      <th>Age</th>\n",
       "      <td>0</td>\n",
       "    </tr>\n",
       "    <tr>\n",
       "      <th>Occupation</th>\n",
       "      <td>0</td>\n",
       "    </tr>\n",
       "    <tr>\n",
       "      <th>city</th>\n",
       "      <td>0</td>\n",
       "    </tr>\n",
       "    <tr>\n",
       "      <th>years in city</th>\n",
       "      <td>0</td>\n",
       "    </tr>\n",
       "    <tr>\n",
       "      <th>Marital_Status</th>\n",
       "      <td>0</td>\n",
       "    </tr>\n",
       "    <tr>\n",
       "      <th>Product_Category_1</th>\n",
       "      <td>0</td>\n",
       "    </tr>\n",
       "    <tr>\n",
       "      <th>Purchase</th>\n",
       "      <td>0</td>\n",
       "    </tr>\n",
       "  </tbody>\n",
       "</table>\n",
       "</div>"
      ],
      "text/plain": [
       "                    Nan Values\n",
       "Product_Category_3      383247\n",
       "Product_Category_2      173638\n",
       "User_ID                      0\n",
       "Product_ID                   0\n",
       "Gender                       0\n",
       "Age                          0\n",
       "Occupation                   0\n",
       "city                         0\n",
       "years in city                0\n",
       "Marital_Status               0\n",
       "Product_Category_1           0\n",
       "Purchase                     0"
      ]
     },
     "execution_count": 73,
     "metadata": {},
     "output_type": "execute_result"
    }
   ],
   "source": [
    "Nan = pd.DataFrame({'Nan Values' : black_fri.isna().sum().sort_values(ascending=False)})\n",
    "Nan"
   ]
  },
  {
   "cell_type": "markdown",
   "id": "12c793dd",
   "metadata": {},
   "source": [
    "so,there are NaN values in Product_Category_2 & Product_Category_3 columns, fill NaN values using fillna().\n",
    "\n"
   ]
  },
  {
   "cell_type": "code",
   "execution_count": 74,
   "id": "7891dd6e",
   "metadata": {},
   "outputs": [
    {
     "data": {
      "text/plain": [
       "(array([nan,  6., 14.,  2.,  8., 15., 16., 11.,  5.,  3.,  4., 12.,  9.,\n",
       "        10., 17., 13.,  7., 18.]),\n",
       " dtype('float64'))"
      ]
     },
     "execution_count": 74,
     "metadata": {},
     "output_type": "execute_result"
    }
   ],
   "source": [
    "black_fri['Product_Category_2'].unique(),black_fri['Product_Category_2'].dtype\n"
   ]
  },
  {
   "cell_type": "code",
   "execution_count": 75,
   "id": "db7e32ac",
   "metadata": {},
   "outputs": [
    {
     "data": {
      "text/plain": [
       "(array([nan, 14., 17.,  5.,  4., 16., 15.,  8.,  9., 13.,  6., 12.,  3.,\n",
       "        18., 11., 10.]),\n",
       " dtype('float64'))"
      ]
     },
     "execution_count": 75,
     "metadata": {},
     "output_type": "execute_result"
    }
   ],
   "source": [
    "black_fri['Product_Category_3'].unique(),black_fri['Product_Category_3'].dtype\n"
   ]
  },
  {
   "cell_type": "markdown",
   "id": "d40ef81f",
   "metadata": {},
   "source": [
    "Both columns contain NaN values,float values & wrong datatype. So we need to change\n",
    "\n",
    "1) float object to int datatype.\n",
    "\n",
    "2) NaN to 0.\n",
    "\n",
    "so first we have to change NaN value to some integer value, we need to check if there is any value which is same in dataframe as we are giving an integer value to NaN & this NaN value means no any item is bought by any customer. So we can fill it by '0'."
   ]
  },
  {
   "cell_type": "code",
   "execution_count": 76,
   "id": "7b996dfb",
   "metadata": {},
   "outputs": [
    {
     "name": "stdout",
     "output_type": "stream",
     "text": [
      "False\n"
     ]
    },
    {
     "name": "stderr",
     "output_type": "stream",
     "text": [
      "<ipython-input-76-8e236132ad59>:1: FutureWarning: elementwise comparison failed; returning scalar instead, but in the future will perform elementwise comparison\n",
      "  print('0' in black_fri['Product_Category_2'].unique())\n"
     ]
    }
   ],
   "source": [
    "print('0' in black_fri['Product_Category_2'].unique())"
   ]
  },
  {
   "cell_type": "code",
   "execution_count": 77,
   "id": "9f0db843",
   "metadata": {},
   "outputs": [
    {
     "name": "stdout",
     "output_type": "stream",
     "text": [
      "False\n"
     ]
    },
    {
     "name": "stderr",
     "output_type": "stream",
     "text": [
      "<ipython-input-77-91452133a9d5>:1: FutureWarning: elementwise comparison failed; returning scalar instead, but in the future will perform elementwise comparison\n",
      "  print('0' in black_fri['Product_Category_3'].unique())\n"
     ]
    }
   ],
   "source": [
    "print('0' in black_fri['Product_Category_3'].unique())"
   ]
  },
  {
   "cell_type": "code",
   "execution_count": 78,
   "id": "17309326",
   "metadata": {},
   "outputs": [
    {
     "data": {
      "text/html": [
       "<div>\n",
       "<style scoped>\n",
       "    .dataframe tbody tr th:only-of-type {\n",
       "        vertical-align: middle;\n",
       "    }\n",
       "\n",
       "    .dataframe tbody tr th {\n",
       "        vertical-align: top;\n",
       "    }\n",
       "\n",
       "    .dataframe thead th {\n",
       "        text-align: right;\n",
       "    }\n",
       "</style>\n",
       "<table border=\"1\" class=\"dataframe\">\n",
       "  <thead>\n",
       "    <tr style=\"text-align: right;\">\n",
       "      <th></th>\n",
       "      <th>User_ID</th>\n",
       "      <th>Product_ID</th>\n",
       "      <th>Gender</th>\n",
       "      <th>Age</th>\n",
       "      <th>Occupation</th>\n",
       "      <th>city</th>\n",
       "      <th>years in city</th>\n",
       "      <th>Marital_Status</th>\n",
       "      <th>Product_Category_1</th>\n",
       "      <th>Product_Category_2</th>\n",
       "      <th>Product_Category_3</th>\n",
       "      <th>Purchase</th>\n",
       "    </tr>\n",
       "  </thead>\n",
       "  <tbody>\n",
       "    <tr>\n",
       "      <th>0</th>\n",
       "      <td>1000001</td>\n",
       "      <td>P00069042</td>\n",
       "      <td>F</td>\n",
       "      <td>0-17</td>\n",
       "      <td>10</td>\n",
       "      <td>A</td>\n",
       "      <td>2</td>\n",
       "      <td>0</td>\n",
       "      <td>3</td>\n",
       "      <td>0</td>\n",
       "      <td>NaN</td>\n",
       "      <td>8370</td>\n",
       "    </tr>\n",
       "    <tr>\n",
       "      <th>1</th>\n",
       "      <td>1000001</td>\n",
       "      <td>P00248942</td>\n",
       "      <td>F</td>\n",
       "      <td>0-17</td>\n",
       "      <td>10</td>\n",
       "      <td>A</td>\n",
       "      <td>2</td>\n",
       "      <td>0</td>\n",
       "      <td>1</td>\n",
       "      <td>6.0</td>\n",
       "      <td>14.0</td>\n",
       "      <td>15200</td>\n",
       "    </tr>\n",
       "    <tr>\n",
       "      <th>2</th>\n",
       "      <td>1000001</td>\n",
       "      <td>P00087842</td>\n",
       "      <td>F</td>\n",
       "      <td>0-17</td>\n",
       "      <td>10</td>\n",
       "      <td>A</td>\n",
       "      <td>2</td>\n",
       "      <td>0</td>\n",
       "      <td>12</td>\n",
       "      <td>0</td>\n",
       "      <td>NaN</td>\n",
       "      <td>1422</td>\n",
       "    </tr>\n",
       "    <tr>\n",
       "      <th>3</th>\n",
       "      <td>1000001</td>\n",
       "      <td>P00085442</td>\n",
       "      <td>F</td>\n",
       "      <td>0-17</td>\n",
       "      <td>10</td>\n",
       "      <td>A</td>\n",
       "      <td>2</td>\n",
       "      <td>0</td>\n",
       "      <td>12</td>\n",
       "      <td>14.0</td>\n",
       "      <td>NaN</td>\n",
       "      <td>1057</td>\n",
       "    </tr>\n",
       "    <tr>\n",
       "      <th>4</th>\n",
       "      <td>1000002</td>\n",
       "      <td>P00285442</td>\n",
       "      <td>M</td>\n",
       "      <td>55+</td>\n",
       "      <td>16</td>\n",
       "      <td>C</td>\n",
       "      <td>4+</td>\n",
       "      <td>0</td>\n",
       "      <td>8</td>\n",
       "      <td>0</td>\n",
       "      <td>NaN</td>\n",
       "      <td>7969</td>\n",
       "    </tr>\n",
       "  </tbody>\n",
       "</table>\n",
       "</div>"
      ],
      "text/plain": [
       "   User_ID Product_ID Gender   Age  Occupation city years in city  \\\n",
       "0  1000001  P00069042      F  0-17          10    A             2   \n",
       "1  1000001  P00248942      F  0-17          10    A             2   \n",
       "2  1000001  P00087842      F  0-17          10    A             2   \n",
       "3  1000001  P00085442      F  0-17          10    A             2   \n",
       "4  1000002  P00285442      M   55+          16    C            4+   \n",
       "\n",
       "   Marital_Status  Product_Category_1 Product_Category_2  Product_Category_3  \\\n",
       "0               0                   3                  0                 NaN   \n",
       "1               0                   1                6.0                14.0   \n",
       "2               0                  12                  0                 NaN   \n",
       "3               0                  12               14.0                 NaN   \n",
       "4               0                   8                  0                 NaN   \n",
       "\n",
       "   Purchase  \n",
       "0      8370  \n",
       "1     15200  \n",
       "2      1422  \n",
       "3      1057  \n",
       "4      7969  "
      ]
     },
     "execution_count": 78,
     "metadata": {},
     "output_type": "execute_result"
    }
   ],
   "source": [
    "black_fri['Product_Category_2']=black_fri['Product_Category_2'].fillna('0')\n",
    "black_fri.head()"
   ]
  },
  {
   "cell_type": "code",
   "execution_count": 79,
   "id": "4b8b9a1b",
   "metadata": {},
   "outputs": [
    {
     "data": {
      "text/html": [
       "<div>\n",
       "<style scoped>\n",
       "    .dataframe tbody tr th:only-of-type {\n",
       "        vertical-align: middle;\n",
       "    }\n",
       "\n",
       "    .dataframe tbody tr th {\n",
       "        vertical-align: top;\n",
       "    }\n",
       "\n",
       "    .dataframe thead th {\n",
       "        text-align: right;\n",
       "    }\n",
       "</style>\n",
       "<table border=\"1\" class=\"dataframe\">\n",
       "  <thead>\n",
       "    <tr style=\"text-align: right;\">\n",
       "      <th></th>\n",
       "      <th>User_ID</th>\n",
       "      <th>Product_ID</th>\n",
       "      <th>Gender</th>\n",
       "      <th>Age</th>\n",
       "      <th>Occupation</th>\n",
       "      <th>city</th>\n",
       "      <th>years in city</th>\n",
       "      <th>Marital_Status</th>\n",
       "      <th>Product_Category_1</th>\n",
       "      <th>Product_Category_2</th>\n",
       "      <th>Product_Category_3</th>\n",
       "      <th>Purchase</th>\n",
       "    </tr>\n",
       "  </thead>\n",
       "  <tbody>\n",
       "    <tr>\n",
       "      <th>0</th>\n",
       "      <td>1000001</td>\n",
       "      <td>P00069042</td>\n",
       "      <td>F</td>\n",
       "      <td>0-17</td>\n",
       "      <td>10</td>\n",
       "      <td>A</td>\n",
       "      <td>2</td>\n",
       "      <td>0</td>\n",
       "      <td>3</td>\n",
       "      <td>0</td>\n",
       "      <td>0</td>\n",
       "      <td>8370</td>\n",
       "    </tr>\n",
       "    <tr>\n",
       "      <th>1</th>\n",
       "      <td>1000001</td>\n",
       "      <td>P00248942</td>\n",
       "      <td>F</td>\n",
       "      <td>0-17</td>\n",
       "      <td>10</td>\n",
       "      <td>A</td>\n",
       "      <td>2</td>\n",
       "      <td>0</td>\n",
       "      <td>1</td>\n",
       "      <td>6.0</td>\n",
       "      <td>14.0</td>\n",
       "      <td>15200</td>\n",
       "    </tr>\n",
       "    <tr>\n",
       "      <th>2</th>\n",
       "      <td>1000001</td>\n",
       "      <td>P00087842</td>\n",
       "      <td>F</td>\n",
       "      <td>0-17</td>\n",
       "      <td>10</td>\n",
       "      <td>A</td>\n",
       "      <td>2</td>\n",
       "      <td>0</td>\n",
       "      <td>12</td>\n",
       "      <td>0</td>\n",
       "      <td>0</td>\n",
       "      <td>1422</td>\n",
       "    </tr>\n",
       "    <tr>\n",
       "      <th>3</th>\n",
       "      <td>1000001</td>\n",
       "      <td>P00085442</td>\n",
       "      <td>F</td>\n",
       "      <td>0-17</td>\n",
       "      <td>10</td>\n",
       "      <td>A</td>\n",
       "      <td>2</td>\n",
       "      <td>0</td>\n",
       "      <td>12</td>\n",
       "      <td>14.0</td>\n",
       "      <td>0</td>\n",
       "      <td>1057</td>\n",
       "    </tr>\n",
       "    <tr>\n",
       "      <th>4</th>\n",
       "      <td>1000002</td>\n",
       "      <td>P00285442</td>\n",
       "      <td>M</td>\n",
       "      <td>55+</td>\n",
       "      <td>16</td>\n",
       "      <td>C</td>\n",
       "      <td>4+</td>\n",
       "      <td>0</td>\n",
       "      <td>8</td>\n",
       "      <td>0</td>\n",
       "      <td>0</td>\n",
       "      <td>7969</td>\n",
       "    </tr>\n",
       "  </tbody>\n",
       "</table>\n",
       "</div>"
      ],
      "text/plain": [
       "   User_ID Product_ID Gender   Age  Occupation city years in city  \\\n",
       "0  1000001  P00069042      F  0-17          10    A             2   \n",
       "1  1000001  P00248942      F  0-17          10    A             2   \n",
       "2  1000001  P00087842      F  0-17          10    A             2   \n",
       "3  1000001  P00085442      F  0-17          10    A             2   \n",
       "4  1000002  P00285442      M   55+          16    C            4+   \n",
       "\n",
       "   Marital_Status  Product_Category_1 Product_Category_2 Product_Category_3  \\\n",
       "0               0                   3                  0                  0   \n",
       "1               0                   1                6.0               14.0   \n",
       "2               0                  12                  0                  0   \n",
       "3               0                  12               14.0                  0   \n",
       "4               0                   8                  0                  0   \n",
       "\n",
       "   Purchase  \n",
       "0      8370  \n",
       "1     15200  \n",
       "2      1422  \n",
       "3      1057  \n",
       "4      7969  "
      ]
     },
     "execution_count": 79,
     "metadata": {},
     "output_type": "execute_result"
    }
   ],
   "source": [
    "black_fri['Product_Category_3']=black_fri['Product_Category_3'].fillna('0')\n",
    "black_fri.head()"
   ]
  },
  {
   "cell_type": "markdown",
   "id": "320a1983",
   "metadata": {},
   "source": [
    "Here we change NaN value to 0."
   ]
  },
  {
   "cell_type": "code",
   "execution_count": 80,
   "id": "a9fce05c",
   "metadata": {},
   "outputs": [
    {
     "data": {
      "text/html": [
       "<div>\n",
       "<style scoped>\n",
       "    .dataframe tbody tr th:only-of-type {\n",
       "        vertical-align: middle;\n",
       "    }\n",
       "\n",
       "    .dataframe tbody tr th {\n",
       "        vertical-align: top;\n",
       "    }\n",
       "\n",
       "    .dataframe thead th {\n",
       "        text-align: right;\n",
       "    }\n",
       "</style>\n",
       "<table border=\"1\" class=\"dataframe\">\n",
       "  <thead>\n",
       "    <tr style=\"text-align: right;\">\n",
       "      <th></th>\n",
       "      <th>User_ID</th>\n",
       "      <th>Product_ID</th>\n",
       "      <th>Gender</th>\n",
       "      <th>Age</th>\n",
       "      <th>Occupation</th>\n",
       "      <th>city</th>\n",
       "      <th>years in city</th>\n",
       "      <th>Marital_Status</th>\n",
       "      <th>Product_Category_1</th>\n",
       "      <th>Product_Category_2</th>\n",
       "      <th>Product_Category_3</th>\n",
       "      <th>Purchase</th>\n",
       "    </tr>\n",
       "  </thead>\n",
       "  <tbody>\n",
       "    <tr>\n",
       "      <th>0</th>\n",
       "      <td>1000001</td>\n",
       "      <td>P00069042</td>\n",
       "      <td>F</td>\n",
       "      <td>0-17</td>\n",
       "      <td>10</td>\n",
       "      <td>A</td>\n",
       "      <td>2</td>\n",
       "      <td>0</td>\n",
       "      <td>3</td>\n",
       "      <td>0</td>\n",
       "      <td>0</td>\n",
       "      <td>8370</td>\n",
       "    </tr>\n",
       "    <tr>\n",
       "      <th>1</th>\n",
       "      <td>1000001</td>\n",
       "      <td>P00248942</td>\n",
       "      <td>F</td>\n",
       "      <td>0-17</td>\n",
       "      <td>10</td>\n",
       "      <td>A</td>\n",
       "      <td>2</td>\n",
       "      <td>0</td>\n",
       "      <td>1</td>\n",
       "      <td>6</td>\n",
       "      <td>14</td>\n",
       "      <td>15200</td>\n",
       "    </tr>\n",
       "    <tr>\n",
       "      <th>2</th>\n",
       "      <td>1000001</td>\n",
       "      <td>P00087842</td>\n",
       "      <td>F</td>\n",
       "      <td>0-17</td>\n",
       "      <td>10</td>\n",
       "      <td>A</td>\n",
       "      <td>2</td>\n",
       "      <td>0</td>\n",
       "      <td>12</td>\n",
       "      <td>0</td>\n",
       "      <td>0</td>\n",
       "      <td>1422</td>\n",
       "    </tr>\n",
       "    <tr>\n",
       "      <th>3</th>\n",
       "      <td>1000001</td>\n",
       "      <td>P00085442</td>\n",
       "      <td>F</td>\n",
       "      <td>0-17</td>\n",
       "      <td>10</td>\n",
       "      <td>A</td>\n",
       "      <td>2</td>\n",
       "      <td>0</td>\n",
       "      <td>12</td>\n",
       "      <td>14</td>\n",
       "      <td>0</td>\n",
       "      <td>1057</td>\n",
       "    </tr>\n",
       "    <tr>\n",
       "      <th>4</th>\n",
       "      <td>1000002</td>\n",
       "      <td>P00285442</td>\n",
       "      <td>M</td>\n",
       "      <td>55+</td>\n",
       "      <td>16</td>\n",
       "      <td>C</td>\n",
       "      <td>4+</td>\n",
       "      <td>0</td>\n",
       "      <td>8</td>\n",
       "      <td>0</td>\n",
       "      <td>0</td>\n",
       "      <td>7969</td>\n",
       "    </tr>\n",
       "  </tbody>\n",
       "</table>\n",
       "</div>"
      ],
      "text/plain": [
       "   User_ID Product_ID Gender   Age  Occupation city years in city  \\\n",
       "0  1000001  P00069042      F  0-17          10    A             2   \n",
       "1  1000001  P00248942      F  0-17          10    A             2   \n",
       "2  1000001  P00087842      F  0-17          10    A             2   \n",
       "3  1000001  P00085442      F  0-17          10    A             2   \n",
       "4  1000002  P00285442      M   55+          16    C            4+   \n",
       "\n",
       "   Marital_Status  Product_Category_1  Product_Category_2  Product_Category_3  \\\n",
       "0               0                   3                   0                   0   \n",
       "1               0                   1                   6                  14   \n",
       "2               0                  12                   0                   0   \n",
       "3               0                  12                  14                   0   \n",
       "4               0                   8                   0                   0   \n",
       "\n",
       "   Purchase  \n",
       "0      8370  \n",
       "1     15200  \n",
       "2      1422  \n",
       "3      1057  \n",
       "4      7969  "
      ]
     },
     "execution_count": 80,
     "metadata": {},
     "output_type": "execute_result"
    }
   ],
   "source": [
    "black_fri[['Product_Category_2','Product_Category_3']]=black_fri[['Product_Category_2','Product_Category_3']].astype('int')\n",
    "black_fri.head()\n",
    "\n"
   ]
  },
  {
   "cell_type": "code",
   "execution_count": 81,
   "id": "2056a761",
   "metadata": {},
   "outputs": [
    {
     "data": {
      "text/plain": [
       "Product_Category_2    int64\n",
       "Product_Category_3    int64\n",
       "dtype: object"
      ]
     },
     "execution_count": 81,
     "metadata": {},
     "output_type": "execute_result"
    }
   ],
   "source": [
    "black_fri[['Product_Category_2','Product_Category_3']].dtypes\n"
   ]
  },
  {
   "cell_type": "markdown",
   "id": "a12c7aa9",
   "metadata": {},
   "source": [
    "Here we change dtype of both columns"
   ]
  },
  {
   "cell_type": "code",
   "execution_count": null,
   "id": "b31eb11a",
   "metadata": {},
   "outputs": [],
   "source": []
  },
  {
   "cell_type": "markdown",
   "id": "e18370a6",
   "metadata": {},
   "source": [
    "4) unique values"
   ]
  },
  {
   "cell_type": "code",
   "execution_count": 82,
   "id": "5dbd0b33",
   "metadata": {},
   "outputs": [
    {
     "name": "stdout",
     "output_type": "stream",
     "text": [
      "[1000001 1000002 1000003 ... 1004113 1005391 1001529]\n",
      "['P00069042' 'P00248942' 'P00087842' ... 'P00370293' 'P00371644'\n",
      " 'P00370853']\n",
      "['F' 'M']\n",
      "['0-17' '55+' '26-35' '46-50' '51-55' '36-45' '18-25']\n",
      "[10 16 15  7 20  9  1 12 17  0  3  4 11  8 19  2 18  5 14 13  6]\n",
      "['A' 'C' 'B']\n",
      "['2' '4+' '3' '1' '0']\n",
      "[0 1]\n",
      "[ 3  1 12  8  5  4  2  6 14 11 13 15  7 16 18 10 17  9 20 19]\n",
      "[ 0  6 14  2  8 15 16 11  5  3  4 12  9 10 17 13  7 18]\n",
      "[ 0 14 17  5  4 16 15  8  9 13  6 12  3 18 11 10]\n",
      "[ 8370 15200  1422 ...   135   123   613]\n"
     ]
    }
   ],
   "source": [
    "for col in black_fri:\n",
    "    print(black_fri[col].unique())"
   ]
  },
  {
   "cell_type": "markdown",
   "id": "26999179",
   "metadata": {},
   "source": [
    "Cleaning indivisual column\n",
    "\n"
   ]
  },
  {
   "cell_type": "markdown",
   "id": "8db1fde0",
   "metadata": {},
   "source": [
    "* 'User_ID' column\n"
   ]
  },
  {
   "cell_type": "code",
   "execution_count": 83,
   "id": "1ff5b4f6",
   "metadata": {},
   "outputs": [
    {
     "data": {
      "text/plain": [
       "(array([1000001, 1000002, 1000003, ..., 1004113, 1005391, 1001529]),\n",
       " dtype('int64'))"
      ]
     },
     "execution_count": 83,
     "metadata": {},
     "output_type": "execute_result"
    }
   ],
   "source": [
    "black_fri['User_ID'].unique(),black_fri['User_ID'].dtype"
   ]
  },
  {
   "cell_type": "markdown",
   "id": "d1401af3",
   "metadata": {},
   "source": [
    "In this column there are only integer values and datatype is also correct.\n",
    "\n",
    "so need to clean."
   ]
  },
  {
   "cell_type": "markdown",
   "id": "21ca09e3",
   "metadata": {},
   "source": [
    "* 'Product_ID' column"
   ]
  },
  {
   "cell_type": "code",
   "execution_count": 84,
   "id": "d86319f8",
   "metadata": {},
   "outputs": [
    {
     "data": {
      "text/plain": [
       "array(['P00069042', 'P00248942', 'P00087842', ..., 'P00370293',\n",
       "       'P00371644', 'P00370853'], dtype=object)"
      ]
     },
     "execution_count": 84,
     "metadata": {},
     "output_type": "execute_result"
    }
   ],
   "source": [
    "black_fri['Product_ID'].unique()\n"
   ]
  },
  {
   "cell_type": "markdown",
   "id": "15f4f720",
   "metadata": {},
   "source": [
    "This column include product id & dtype is object so no need to change\n",
    "\n",
    "because we don't need this column for any operations in data cleaning or in ploting"
   ]
  },
  {
   "cell_type": "markdown",
   "id": "60d930de",
   "metadata": {},
   "source": [
    "* 'Gender' column"
   ]
  },
  {
   "cell_type": "code",
   "execution_count": 85,
   "id": "b1a3f8cf",
   "metadata": {},
   "outputs": [
    {
     "data": {
      "text/plain": [
       "array(['F', 'M'], dtype=object)"
      ]
     },
     "execution_count": 85,
     "metadata": {},
     "output_type": "execute_result"
    }
   ],
   "source": [
    "black_fri['Gender'].unique()\n"
   ]
  },
  {
   "cell_type": "code",
   "execution_count": 86,
   "id": "4d2320af",
   "metadata": {},
   "outputs": [
    {
     "data": {
      "text/html": [
       "<div>\n",
       "<style scoped>\n",
       "    .dataframe tbody tr th:only-of-type {\n",
       "        vertical-align: middle;\n",
       "    }\n",
       "\n",
       "    .dataframe tbody tr th {\n",
       "        vertical-align: top;\n",
       "    }\n",
       "\n",
       "    .dataframe thead th {\n",
       "        text-align: right;\n",
       "    }\n",
       "</style>\n",
       "<table border=\"1\" class=\"dataframe\">\n",
       "  <thead>\n",
       "    <tr style=\"text-align: right;\">\n",
       "      <th></th>\n",
       "      <th>User_ID</th>\n",
       "      <th>Product_ID</th>\n",
       "      <th>Gender</th>\n",
       "      <th>Age</th>\n",
       "      <th>Occupation</th>\n",
       "      <th>city</th>\n",
       "      <th>years in city</th>\n",
       "      <th>Marital_Status</th>\n",
       "      <th>Product_Category_1</th>\n",
       "      <th>Product_Category_2</th>\n",
       "      <th>Product_Category_3</th>\n",
       "      <th>Purchase</th>\n",
       "    </tr>\n",
       "  </thead>\n",
       "  <tbody>\n",
       "    <tr>\n",
       "      <th>0</th>\n",
       "      <td>1000001</td>\n",
       "      <td>P00069042</td>\n",
       "      <td>1</td>\n",
       "      <td>0-17</td>\n",
       "      <td>10</td>\n",
       "      <td>A</td>\n",
       "      <td>2</td>\n",
       "      <td>0</td>\n",
       "      <td>3</td>\n",
       "      <td>0</td>\n",
       "      <td>0</td>\n",
       "      <td>8370</td>\n",
       "    </tr>\n",
       "    <tr>\n",
       "      <th>1</th>\n",
       "      <td>1000001</td>\n",
       "      <td>P00248942</td>\n",
       "      <td>1</td>\n",
       "      <td>0-17</td>\n",
       "      <td>10</td>\n",
       "      <td>A</td>\n",
       "      <td>2</td>\n",
       "      <td>0</td>\n",
       "      <td>1</td>\n",
       "      <td>6</td>\n",
       "      <td>14</td>\n",
       "      <td>15200</td>\n",
       "    </tr>\n",
       "  </tbody>\n",
       "</table>\n",
       "</div>"
      ],
      "text/plain": [
       "   User_ID Product_ID  Gender   Age  Occupation city years in city  \\\n",
       "0  1000001  P00069042       1  0-17          10    A             2   \n",
       "1  1000001  P00248942       1  0-17          10    A             2   \n",
       "\n",
       "   Marital_Status  Product_Category_1  Product_Category_2  Product_Category_3  \\\n",
       "0               0                   3                   0                   0   \n",
       "1               0                   1                   6                  14   \n",
       "\n",
       "   Purchase  \n",
       "0      8370  \n",
       "1     15200  "
      ]
     },
     "execution_count": 86,
     "metadata": {},
     "output_type": "execute_result"
    }
   ],
   "source": [
    "black_fri['Gender']=black_fri['Gender'].map({'M':0 , 'F':1})\n",
    "black_fri.head(2)\n"
   ]
  },
  {
   "cell_type": "markdown",
   "id": "8ad59038",
   "metadata": {},
   "source": [
    "* 'Age' column"
   ]
  },
  {
   "cell_type": "code",
   "execution_count": 87,
   "id": "8d693ee1",
   "metadata": {},
   "outputs": [
    {
     "data": {
      "text/plain": [
       "array(['0-17', '55+', '26-35', '46-50', '51-55', '36-45', '18-25'],\n",
       "      dtype=object)"
      ]
     },
     "execution_count": 87,
     "metadata": {},
     "output_type": "execute_result"
    }
   ],
   "source": [
    "black_fri['Age'].unique()"
   ]
  },
  {
   "cell_type": "markdown",
   "id": "5c859d18",
   "metadata": {},
   "source": [
    "Here we see that the 'Age' column has some range of age group & some '+' values and datatype is object.\n",
    "\n",
    "Need to change:\n",
    "\n",
    "1) convert range using map function\n",
    "\n",
    "2) replace '+' values\n",
    "\n"
   ]
  },
  {
   "cell_type": "code",
   "execution_count": 88,
   "id": "213ea76c",
   "metadata": {},
   "outputs": [
    {
     "data": {
      "text/html": [
       "<div>\n",
       "<style scoped>\n",
       "    .dataframe tbody tr th:only-of-type {\n",
       "        vertical-align: middle;\n",
       "    }\n",
       "\n",
       "    .dataframe tbody tr th {\n",
       "        vertical-align: top;\n",
       "    }\n",
       "\n",
       "    .dataframe thead th {\n",
       "        text-align: right;\n",
       "    }\n",
       "</style>\n",
       "<table border=\"1\" class=\"dataframe\">\n",
       "  <thead>\n",
       "    <tr style=\"text-align: right;\">\n",
       "      <th></th>\n",
       "      <th>User_ID</th>\n",
       "      <th>Product_ID</th>\n",
       "      <th>Gender</th>\n",
       "      <th>Age</th>\n",
       "      <th>Occupation</th>\n",
       "      <th>city</th>\n",
       "      <th>years in city</th>\n",
       "      <th>Marital_Status</th>\n",
       "      <th>Product_Category_1</th>\n",
       "      <th>Product_Category_2</th>\n",
       "      <th>Product_Category_3</th>\n",
       "      <th>Purchase</th>\n",
       "    </tr>\n",
       "  </thead>\n",
       "  <tbody>\n",
       "    <tr>\n",
       "      <th>0</th>\n",
       "      <td>1000001</td>\n",
       "      <td>P00069042</td>\n",
       "      <td>1</td>\n",
       "      <td>Child</td>\n",
       "      <td>10</td>\n",
       "      <td>A</td>\n",
       "      <td>2</td>\n",
       "      <td>0</td>\n",
       "      <td>3</td>\n",
       "      <td>0</td>\n",
       "      <td>0</td>\n",
       "      <td>8370</td>\n",
       "    </tr>\n",
       "    <tr>\n",
       "      <th>1</th>\n",
       "      <td>1000001</td>\n",
       "      <td>P00248942</td>\n",
       "      <td>1</td>\n",
       "      <td>Child</td>\n",
       "      <td>10</td>\n",
       "      <td>A</td>\n",
       "      <td>2</td>\n",
       "      <td>0</td>\n",
       "      <td>1</td>\n",
       "      <td>6</td>\n",
       "      <td>14</td>\n",
       "      <td>15200</td>\n",
       "    </tr>\n",
       "    <tr>\n",
       "      <th>2</th>\n",
       "      <td>1000001</td>\n",
       "      <td>P00087842</td>\n",
       "      <td>1</td>\n",
       "      <td>Child</td>\n",
       "      <td>10</td>\n",
       "      <td>A</td>\n",
       "      <td>2</td>\n",
       "      <td>0</td>\n",
       "      <td>12</td>\n",
       "      <td>0</td>\n",
       "      <td>0</td>\n",
       "      <td>1422</td>\n",
       "    </tr>\n",
       "  </tbody>\n",
       "</table>\n",
       "</div>"
      ],
      "text/plain": [
       "   User_ID Product_ID  Gender    Age  Occupation city years in city  \\\n",
       "0  1000001  P00069042       1  Child          10    A             2   \n",
       "1  1000001  P00248942       1  Child          10    A             2   \n",
       "2  1000001  P00087842       1  Child          10    A             2   \n",
       "\n",
       "   Marital_Status  Product_Category_1  Product_Category_2  Product_Category_3  \\\n",
       "0               0                   3                   0                   0   \n",
       "1               0                   1                   6                  14   \n",
       "2               0                  12                   0                   0   \n",
       "\n",
       "   Purchase  \n",
       "0      8370  \n",
       "1     15200  \n",
       "2      1422  "
      ]
     },
     "execution_count": 88,
     "metadata": {},
     "output_type": "execute_result"
    }
   ],
   "source": [
    "black_fri['Age']=black_fri['Age'].map({'0-17':'Child','18-25':'Teenage','26-35':'Adult','36-45':'Adult','46-50':'Adult','51-55':'Old','55+':'Old'})\n",
    "black_fri.head(3)\n"
   ]
  },
  {
   "cell_type": "code",
   "execution_count": 89,
   "id": "3b35d21f",
   "metadata": {},
   "outputs": [
    {
     "data": {
      "text/html": [
       "<div>\n",
       "<style scoped>\n",
       "    .dataframe tbody tr th:only-of-type {\n",
       "        vertical-align: middle;\n",
       "    }\n",
       "\n",
       "    .dataframe tbody tr th {\n",
       "        vertical-align: top;\n",
       "    }\n",
       "\n",
       "    .dataframe thead th {\n",
       "        text-align: right;\n",
       "    }\n",
       "</style>\n",
       "<table border=\"1\" class=\"dataframe\">\n",
       "  <thead>\n",
       "    <tr style=\"text-align: right;\">\n",
       "      <th></th>\n",
       "      <th>User_ID</th>\n",
       "      <th>Product_ID</th>\n",
       "      <th>Gender</th>\n",
       "      <th>Age</th>\n",
       "      <th>Occupation</th>\n",
       "      <th>city</th>\n",
       "      <th>years in city</th>\n",
       "      <th>Marital_Status</th>\n",
       "      <th>Product_Category_1</th>\n",
       "      <th>Product_Category_2</th>\n",
       "      <th>Product_Category_3</th>\n",
       "      <th>Purchase</th>\n",
       "    </tr>\n",
       "  </thead>\n",
       "  <tbody>\n",
       "    <tr>\n",
       "      <th>0</th>\n",
       "      <td>1000001</td>\n",
       "      <td>P00069042</td>\n",
       "      <td>1</td>\n",
       "      <td>Child</td>\n",
       "      <td>10</td>\n",
       "      <td>A</td>\n",
       "      <td>2</td>\n",
       "      <td>0</td>\n",
       "      <td>3</td>\n",
       "      <td>0</td>\n",
       "      <td>0</td>\n",
       "      <td>8370</td>\n",
       "    </tr>\n",
       "    <tr>\n",
       "      <th>1</th>\n",
       "      <td>1000001</td>\n",
       "      <td>P00248942</td>\n",
       "      <td>1</td>\n",
       "      <td>Child</td>\n",
       "      <td>10</td>\n",
       "      <td>A</td>\n",
       "      <td>2</td>\n",
       "      <td>0</td>\n",
       "      <td>1</td>\n",
       "      <td>6</td>\n",
       "      <td>14</td>\n",
       "      <td>15200</td>\n",
       "    </tr>\n",
       "  </tbody>\n",
       "</table>\n",
       "</div>"
      ],
      "text/plain": [
       "   User_ID Product_ID  Gender    Age  Occupation city years in city  \\\n",
       "0  1000001  P00069042       1  Child          10    A             2   \n",
       "1  1000001  P00248942       1  Child          10    A             2   \n",
       "\n",
       "   Marital_Status  Product_Category_1  Product_Category_2  Product_Category_3  \\\n",
       "0               0                   3                   0                   0   \n",
       "1               0                   1                   6                  14   \n",
       "\n",
       "   Purchase  \n",
       "0      8370  \n",
       "1     15200  "
      ]
     },
     "execution_count": 89,
     "metadata": {},
     "output_type": "execute_result"
    }
   ],
   "source": [
    "black_fri['Age'] = black_fri['Age'].astype(str).apply(lambda x: x.replace('+',''))\n",
    "black_fri.head(2)\n"
   ]
  },
  {
   "cell_type": "code",
   "execution_count": 90,
   "id": "91c12e65",
   "metadata": {},
   "outputs": [
    {
     "data": {
      "text/plain": [
       "array(['Child', 'Old', 'Adult', 'Teenage'], dtype=object)"
      ]
     },
     "execution_count": 90,
     "metadata": {},
     "output_type": "execute_result"
    }
   ],
   "source": [
    "black_fri['Age'].unique()\n"
   ]
  },
  {
   "cell_type": "markdown",
   "id": "0dca4aa2",
   "metadata": {},
   "source": [
    "* 'Occupation' column"
   ]
  },
  {
   "cell_type": "code",
   "execution_count": 91,
   "id": "1609c9ea",
   "metadata": {},
   "outputs": [
    {
     "data": {
      "text/plain": [
       "(array([10, 16, 15,  7, 20,  9,  1, 12, 17,  0,  3,  4, 11,  8, 19,  2, 18,\n",
       "         5, 14, 13,  6]),\n",
       " dtype('int64'))"
      ]
     },
     "execution_count": 91,
     "metadata": {},
     "output_type": "execute_result"
    }
   ],
   "source": [
    "black_fri['Occupation'].unique(),black_fri['Occupation'].dtype\n"
   ]
  },
  {
   "cell_type": "markdown",
   "id": "430f2a7a",
   "metadata": {},
   "source": [
    "This is masked column already converted from categorical to numerical values.\n",
    "\n",
    "So no need to change this column."
   ]
  },
  {
   "cell_type": "markdown",
   "id": "6a9ebe38",
   "metadata": {},
   "source": [
    "* 'city' column"
   ]
  },
  {
   "cell_type": "code",
   "execution_count": 92,
   "id": "79f691c4",
   "metadata": {},
   "outputs": [
    {
     "data": {
      "text/plain": [
       "array(['A', 'C', 'B'], dtype=object)"
      ]
     },
     "execution_count": 92,
     "metadata": {},
     "output_type": "execute_result"
    }
   ],
   "source": [
    "black_fri['city'].unique()\n"
   ]
  },
  {
   "cell_type": "markdown",
   "id": "f5d04f00",
   "metadata": {},
   "source": [
    "No need to change"
   ]
  },
  {
   "cell_type": "markdown",
   "id": "2f8713e0",
   "metadata": {},
   "source": [
    "* 'years in city' column"
   ]
  },
  {
   "cell_type": "code",
   "execution_count": 93,
   "id": "a60113ff",
   "metadata": {},
   "outputs": [
    {
     "data": {
      "text/plain": [
       "array(['2', '4+', '3', '1', '0'], dtype=object)"
      ]
     },
     "execution_count": 93,
     "metadata": {},
     "output_type": "execute_result"
    }
   ],
   "source": [
    "black_fri['years in city'].unique()"
   ]
  },
  {
   "cell_type": "markdown",
   "id": "30ad5b73",
   "metadata": {},
   "source": [
    "Here we got some '+' values & datatype is an object,so\n",
    "\n",
    "changes need:\n",
    "\n",
    "1) replace '+'\n",
    "\n",
    "2) change the datatype"
   ]
  },
  {
   "cell_type": "code",
   "execution_count": 94,
   "id": "59911277",
   "metadata": {},
   "outputs": [
    {
     "data": {
      "text/html": [
       "<div>\n",
       "<style scoped>\n",
       "    .dataframe tbody tr th:only-of-type {\n",
       "        vertical-align: middle;\n",
       "    }\n",
       "\n",
       "    .dataframe tbody tr th {\n",
       "        vertical-align: top;\n",
       "    }\n",
       "\n",
       "    .dataframe thead th {\n",
       "        text-align: right;\n",
       "    }\n",
       "</style>\n",
       "<table border=\"1\" class=\"dataframe\">\n",
       "  <thead>\n",
       "    <tr style=\"text-align: right;\">\n",
       "      <th></th>\n",
       "      <th>User_ID</th>\n",
       "      <th>Product_ID</th>\n",
       "      <th>Gender</th>\n",
       "      <th>Age</th>\n",
       "      <th>Occupation</th>\n",
       "      <th>city</th>\n",
       "      <th>years in city</th>\n",
       "      <th>Marital_Status</th>\n",
       "      <th>Product_Category_1</th>\n",
       "      <th>Product_Category_2</th>\n",
       "      <th>Product_Category_3</th>\n",
       "      <th>Purchase</th>\n",
       "    </tr>\n",
       "  </thead>\n",
       "  <tbody>\n",
       "    <tr>\n",
       "      <th>0</th>\n",
       "      <td>1000001</td>\n",
       "      <td>P00069042</td>\n",
       "      <td>1</td>\n",
       "      <td>Child</td>\n",
       "      <td>10</td>\n",
       "      <td>A</td>\n",
       "      <td>2</td>\n",
       "      <td>0</td>\n",
       "      <td>3</td>\n",
       "      <td>0</td>\n",
       "      <td>0</td>\n",
       "      <td>8370</td>\n",
       "    </tr>\n",
       "    <tr>\n",
       "      <th>1</th>\n",
       "      <td>1000001</td>\n",
       "      <td>P00248942</td>\n",
       "      <td>1</td>\n",
       "      <td>Child</td>\n",
       "      <td>10</td>\n",
       "      <td>A</td>\n",
       "      <td>2</td>\n",
       "      <td>0</td>\n",
       "      <td>1</td>\n",
       "      <td>6</td>\n",
       "      <td>14</td>\n",
       "      <td>15200</td>\n",
       "    </tr>\n",
       "  </tbody>\n",
       "</table>\n",
       "</div>"
      ],
      "text/plain": [
       "   User_ID Product_ID  Gender    Age  Occupation city years in city  \\\n",
       "0  1000001  P00069042       1  Child          10    A             2   \n",
       "1  1000001  P00248942       1  Child          10    A             2   \n",
       "\n",
       "   Marital_Status  Product_Category_1  Product_Category_2  Product_Category_3  \\\n",
       "0               0                   3                   0                   0   \n",
       "1               0                   1                   6                  14   \n",
       "\n",
       "   Purchase  \n",
       "0      8370  \n",
       "1     15200  "
      ]
     },
     "execution_count": 94,
     "metadata": {},
     "output_type": "execute_result"
    }
   ],
   "source": [
    "black_fri['years in city'] = black_fri['years in city'].astype(str).apply(lambda x: x.replace('+',''))\n",
    "black_fri.head(2)\n"
   ]
  },
  {
   "cell_type": "code",
   "execution_count": 95,
   "id": "3dcff589",
   "metadata": {},
   "outputs": [
    {
     "data": {
      "text/html": [
       "<div>\n",
       "<style scoped>\n",
       "    .dataframe tbody tr th:only-of-type {\n",
       "        vertical-align: middle;\n",
       "    }\n",
       "\n",
       "    .dataframe tbody tr th {\n",
       "        vertical-align: top;\n",
       "    }\n",
       "\n",
       "    .dataframe thead th {\n",
       "        text-align: right;\n",
       "    }\n",
       "</style>\n",
       "<table border=\"1\" class=\"dataframe\">\n",
       "  <thead>\n",
       "    <tr style=\"text-align: right;\">\n",
       "      <th></th>\n",
       "      <th>User_ID</th>\n",
       "      <th>Product_ID</th>\n",
       "      <th>Gender</th>\n",
       "      <th>Age</th>\n",
       "      <th>Occupation</th>\n",
       "      <th>city</th>\n",
       "      <th>years in city</th>\n",
       "      <th>Marital_Status</th>\n",
       "      <th>Product_Category_1</th>\n",
       "      <th>Product_Category_2</th>\n",
       "      <th>Product_Category_3</th>\n",
       "      <th>Purchase</th>\n",
       "    </tr>\n",
       "  </thead>\n",
       "  <tbody>\n",
       "    <tr>\n",
       "      <th>0</th>\n",
       "      <td>1000001</td>\n",
       "      <td>P00069042</td>\n",
       "      <td>1</td>\n",
       "      <td>Child</td>\n",
       "      <td>10</td>\n",
       "      <td>A</td>\n",
       "      <td>2</td>\n",
       "      <td>0</td>\n",
       "      <td>3</td>\n",
       "      <td>0</td>\n",
       "      <td>0</td>\n",
       "      <td>8370</td>\n",
       "    </tr>\n",
       "    <tr>\n",
       "      <th>1</th>\n",
       "      <td>1000001</td>\n",
       "      <td>P00248942</td>\n",
       "      <td>1</td>\n",
       "      <td>Child</td>\n",
       "      <td>10</td>\n",
       "      <td>A</td>\n",
       "      <td>2</td>\n",
       "      <td>0</td>\n",
       "      <td>1</td>\n",
       "      <td>6</td>\n",
       "      <td>14</td>\n",
       "      <td>15200</td>\n",
       "    </tr>\n",
       "  </tbody>\n",
       "</table>\n",
       "</div>"
      ],
      "text/plain": [
       "   User_ID Product_ID  Gender    Age  Occupation city  years in city  \\\n",
       "0  1000001  P00069042       1  Child          10    A              2   \n",
       "1  1000001  P00248942       1  Child          10    A              2   \n",
       "\n",
       "   Marital_Status  Product_Category_1  Product_Category_2  Product_Category_3  \\\n",
       "0               0                   3                   0                   0   \n",
       "1               0                   1                   6                  14   \n",
       "\n",
       "   Purchase  \n",
       "0      8370  \n",
       "1     15200  "
      ]
     },
     "execution_count": 95,
     "metadata": {},
     "output_type": "execute_result"
    }
   ],
   "source": [
    "black_fri = black_fri.astype({'years in city': int})\n",
    "black_fri.head(2)"
   ]
  },
  {
   "cell_type": "code",
   "execution_count": 96,
   "id": "d82aca01",
   "metadata": {},
   "outputs": [
    {
     "data": {
      "text/plain": [
       "(array([2, 4, 3, 1, 0]), dtype('int64'))"
      ]
     },
     "execution_count": 96,
     "metadata": {},
     "output_type": "execute_result"
    }
   ],
   "source": [
    "black_fri['years in city'].unique(),black_fri['years in city'].dtype"
   ]
  },
  {
   "cell_type": "markdown",
   "id": "cc59ca9d",
   "metadata": {},
   "source": [
    "So we replace '+' and datatype converted to int."
   ]
  },
  {
   "cell_type": "markdown",
   "id": "fda1cac3",
   "metadata": {},
   "source": [
    "* 'Marital_Status' column"
   ]
  },
  {
   "cell_type": "code",
   "execution_count": 97,
   "id": "12b40298",
   "metadata": {},
   "outputs": [
    {
     "data": {
      "text/plain": [
       "(array([0, 1]), dtype('int64'))"
      ]
     },
     "execution_count": 97,
     "metadata": {},
     "output_type": "execute_result"
    }
   ],
   "source": [
    "black_fri['Marital_Status'].unique(),black_fri['Marital_Status'].dtype"
   ]
  },
  {
   "cell_type": "markdown",
   "id": "21a639d6",
   "metadata": {},
   "source": [
    "No need to change"
   ]
  },
  {
   "cell_type": "markdown",
   "id": "977bb25b",
   "metadata": {},
   "source": [
    "* 'Product_Category_1' column"
   ]
  },
  {
   "cell_type": "code",
   "execution_count": 98,
   "id": "5158d1e6",
   "metadata": {},
   "outputs": [
    {
     "data": {
      "text/plain": [
       "(array([ 3,  1, 12,  8,  5,  4,  2,  6, 14, 11, 13, 15,  7, 16, 18, 10, 17,\n",
       "         9, 20, 19]),\n",
       " dtype('int64'))"
      ]
     },
     "execution_count": 98,
     "metadata": {},
     "output_type": "execute_result"
    }
   ],
   "source": [
    "black_fri['Product_Category_1'].unique(),black_fri['Product_Category_1'].dtype\n"
   ]
  },
  {
   "cell_type": "markdown",
   "id": "867968bf",
   "metadata": {},
   "source": [
    "Correct datatype & no unique values so no need to change."
   ]
  },
  {
   "cell_type": "code",
   "execution_count": null,
   "id": "459b39d3",
   "metadata": {},
   "outputs": [],
   "source": []
  },
  {
   "cell_type": "markdown",
   "id": "6fec93c7",
   "metadata": {},
   "source": [
    "Product_Category_2 & Product_Category_3 columns are already cleaned."
   ]
  },
  {
   "cell_type": "code",
   "execution_count": 99,
   "id": "b0c3c451",
   "metadata": {},
   "outputs": [
    {
     "data": {
      "text/plain": [
       "(array([ 8370, 15200,  1422, ...,   135,   123,   613]), dtype('int64'))"
      ]
     },
     "execution_count": 99,
     "metadata": {},
     "output_type": "execute_result"
    }
   ],
   "source": [
    "black_fri['Purchase'].unique(),black_fri['Purchase'].dtype\n"
   ]
  },
  {
   "cell_type": "markdown",
   "id": "053ecde8",
   "metadata": {},
   "source": [
    "No unique values in this column & datatype is correct."
   ]
  },
  {
   "cell_type": "markdown",
   "id": "79b4c558",
   "metadata": {},
   "source": [
    "* Drop duplicate values"
   ]
  },
  {
   "cell_type": "code",
   "execution_count": 100,
   "id": "db1f28b2",
   "metadata": {},
   "outputs": [
    {
     "data": {
      "text/plain": [
       "False    550068\n",
       "dtype: int64"
      ]
     },
     "execution_count": 100,
     "metadata": {},
     "output_type": "execute_result"
    }
   ],
   "source": [
    "black_fri.duplicated().value_counts()\n"
   ]
  },
  {
   "cell_type": "markdown",
   "id": "c414844c",
   "metadata": {},
   "source": [
    "So there are no any duplicate values in dataset"
   ]
  },
  {
   "cell_type": "code",
   "execution_count": 101,
   "id": "4ca09a54",
   "metadata": {},
   "outputs": [
    {
     "data": {
      "text/html": [
       "<div>\n",
       "<style scoped>\n",
       "    .dataframe tbody tr th:only-of-type {\n",
       "        vertical-align: middle;\n",
       "    }\n",
       "\n",
       "    .dataframe tbody tr th {\n",
       "        vertical-align: top;\n",
       "    }\n",
       "\n",
       "    .dataframe thead th {\n",
       "        text-align: right;\n",
       "    }\n",
       "</style>\n",
       "<table border=\"1\" class=\"dataframe\">\n",
       "  <thead>\n",
       "    <tr style=\"text-align: right;\">\n",
       "      <th></th>\n",
       "      <th>User_ID</th>\n",
       "      <th>Product_ID</th>\n",
       "      <th>Gender</th>\n",
       "      <th>Age</th>\n",
       "      <th>Occupation</th>\n",
       "      <th>city</th>\n",
       "      <th>years in city</th>\n",
       "      <th>Marital_Status</th>\n",
       "      <th>Product_Category_1</th>\n",
       "      <th>Product_Category_2</th>\n",
       "      <th>Product_Category_3</th>\n",
       "      <th>Purchase</th>\n",
       "    </tr>\n",
       "  </thead>\n",
       "  <tbody>\n",
       "    <tr>\n",
       "      <th>0</th>\n",
       "      <td>1000001</td>\n",
       "      <td>P00069042</td>\n",
       "      <td>1</td>\n",
       "      <td>Child</td>\n",
       "      <td>10</td>\n",
       "      <td>A</td>\n",
       "      <td>2</td>\n",
       "      <td>0</td>\n",
       "      <td>3</td>\n",
       "      <td>0</td>\n",
       "      <td>0</td>\n",
       "      <td>8370</td>\n",
       "    </tr>\n",
       "    <tr>\n",
       "      <th>1</th>\n",
       "      <td>1000001</td>\n",
       "      <td>P00248942</td>\n",
       "      <td>1</td>\n",
       "      <td>Child</td>\n",
       "      <td>10</td>\n",
       "      <td>A</td>\n",
       "      <td>2</td>\n",
       "      <td>0</td>\n",
       "      <td>1</td>\n",
       "      <td>6</td>\n",
       "      <td>14</td>\n",
       "      <td>15200</td>\n",
       "    </tr>\n",
       "    <tr>\n",
       "      <th>2</th>\n",
       "      <td>1000001</td>\n",
       "      <td>P00087842</td>\n",
       "      <td>1</td>\n",
       "      <td>Child</td>\n",
       "      <td>10</td>\n",
       "      <td>A</td>\n",
       "      <td>2</td>\n",
       "      <td>0</td>\n",
       "      <td>12</td>\n",
       "      <td>0</td>\n",
       "      <td>0</td>\n",
       "      <td>1422</td>\n",
       "    </tr>\n",
       "    <tr>\n",
       "      <th>3</th>\n",
       "      <td>1000001</td>\n",
       "      <td>P00085442</td>\n",
       "      <td>1</td>\n",
       "      <td>Child</td>\n",
       "      <td>10</td>\n",
       "      <td>A</td>\n",
       "      <td>2</td>\n",
       "      <td>0</td>\n",
       "      <td>12</td>\n",
       "      <td>14</td>\n",
       "      <td>0</td>\n",
       "      <td>1057</td>\n",
       "    </tr>\n",
       "    <tr>\n",
       "      <th>4</th>\n",
       "      <td>1000002</td>\n",
       "      <td>P00285442</td>\n",
       "      <td>0</td>\n",
       "      <td>Old</td>\n",
       "      <td>16</td>\n",
       "      <td>C</td>\n",
       "      <td>4</td>\n",
       "      <td>0</td>\n",
       "      <td>8</td>\n",
       "      <td>0</td>\n",
       "      <td>0</td>\n",
       "      <td>7969</td>\n",
       "    </tr>\n",
       "    <tr>\n",
       "      <th>...</th>\n",
       "      <td>...</td>\n",
       "      <td>...</td>\n",
       "      <td>...</td>\n",
       "      <td>...</td>\n",
       "      <td>...</td>\n",
       "      <td>...</td>\n",
       "      <td>...</td>\n",
       "      <td>...</td>\n",
       "      <td>...</td>\n",
       "      <td>...</td>\n",
       "      <td>...</td>\n",
       "      <td>...</td>\n",
       "    </tr>\n",
       "    <tr>\n",
       "      <th>550063</th>\n",
       "      <td>1006033</td>\n",
       "      <td>P00372445</td>\n",
       "      <td>0</td>\n",
       "      <td>Old</td>\n",
       "      <td>13</td>\n",
       "      <td>B</td>\n",
       "      <td>1</td>\n",
       "      <td>1</td>\n",
       "      <td>20</td>\n",
       "      <td>0</td>\n",
       "      <td>0</td>\n",
       "      <td>368</td>\n",
       "    </tr>\n",
       "    <tr>\n",
       "      <th>550064</th>\n",
       "      <td>1006035</td>\n",
       "      <td>P00375436</td>\n",
       "      <td>1</td>\n",
       "      <td>Adult</td>\n",
       "      <td>1</td>\n",
       "      <td>C</td>\n",
       "      <td>3</td>\n",
       "      <td>0</td>\n",
       "      <td>20</td>\n",
       "      <td>0</td>\n",
       "      <td>0</td>\n",
       "      <td>371</td>\n",
       "    </tr>\n",
       "    <tr>\n",
       "      <th>550065</th>\n",
       "      <td>1006036</td>\n",
       "      <td>P00375436</td>\n",
       "      <td>1</td>\n",
       "      <td>Adult</td>\n",
       "      <td>15</td>\n",
       "      <td>B</td>\n",
       "      <td>4</td>\n",
       "      <td>1</td>\n",
       "      <td>20</td>\n",
       "      <td>0</td>\n",
       "      <td>0</td>\n",
       "      <td>137</td>\n",
       "    </tr>\n",
       "    <tr>\n",
       "      <th>550066</th>\n",
       "      <td>1006038</td>\n",
       "      <td>P00375436</td>\n",
       "      <td>1</td>\n",
       "      <td>Old</td>\n",
       "      <td>1</td>\n",
       "      <td>C</td>\n",
       "      <td>2</td>\n",
       "      <td>0</td>\n",
       "      <td>20</td>\n",
       "      <td>0</td>\n",
       "      <td>0</td>\n",
       "      <td>365</td>\n",
       "    </tr>\n",
       "    <tr>\n",
       "      <th>550067</th>\n",
       "      <td>1006039</td>\n",
       "      <td>P00371644</td>\n",
       "      <td>1</td>\n",
       "      <td>Adult</td>\n",
       "      <td>0</td>\n",
       "      <td>B</td>\n",
       "      <td>4</td>\n",
       "      <td>1</td>\n",
       "      <td>20</td>\n",
       "      <td>0</td>\n",
       "      <td>0</td>\n",
       "      <td>490</td>\n",
       "    </tr>\n",
       "  </tbody>\n",
       "</table>\n",
       "<p>550068 rows × 12 columns</p>\n",
       "</div>"
      ],
      "text/plain": [
       "        User_ID Product_ID  Gender    Age  Occupation city  years in city  \\\n",
       "0       1000001  P00069042       1  Child          10    A              2   \n",
       "1       1000001  P00248942       1  Child          10    A              2   \n",
       "2       1000001  P00087842       1  Child          10    A              2   \n",
       "3       1000001  P00085442       1  Child          10    A              2   \n",
       "4       1000002  P00285442       0    Old          16    C              4   \n",
       "...         ...        ...     ...    ...         ...  ...            ...   \n",
       "550063  1006033  P00372445       0    Old          13    B              1   \n",
       "550064  1006035  P00375436       1  Adult           1    C              3   \n",
       "550065  1006036  P00375436       1  Adult          15    B              4   \n",
       "550066  1006038  P00375436       1    Old           1    C              2   \n",
       "550067  1006039  P00371644       1  Adult           0    B              4   \n",
       "\n",
       "        Marital_Status  Product_Category_1  Product_Category_2  \\\n",
       "0                    0                   3                   0   \n",
       "1                    0                   1                   6   \n",
       "2                    0                  12                   0   \n",
       "3                    0                  12                  14   \n",
       "4                    0                   8                   0   \n",
       "...                ...                 ...                 ...   \n",
       "550063               1                  20                   0   \n",
       "550064               0                  20                   0   \n",
       "550065               1                  20                   0   \n",
       "550066               0                  20                   0   \n",
       "550067               1                  20                   0   \n",
       "\n",
       "        Product_Category_3  Purchase  \n",
       "0                        0      8370  \n",
       "1                       14     15200  \n",
       "2                        0      1422  \n",
       "3                        0      1057  \n",
       "4                        0      7969  \n",
       "...                    ...       ...  \n",
       "550063                   0       368  \n",
       "550064                   0       371  \n",
       "550065                   0       137  \n",
       "550066                   0       365  \n",
       "550067                   0       490  \n",
       "\n",
       "[550068 rows x 12 columns]"
      ]
     },
     "execution_count": 101,
     "metadata": {},
     "output_type": "execute_result"
    }
   ],
   "source": [
    "black_fri\n"
   ]
  },
  {
   "cell_type": "markdown",
   "id": "36a0b291",
   "metadata": {},
   "source": [
    "This is our final dataset now we can perform data visualization & ploting operations\n",
    "\n",
    "Therefore, we cleaned our data successfully and got 550068 Values of data out of 550068 & 11 columns out of 12 columns."
   ]
  },
  {
   "cell_type": "markdown",
   "id": "9d690a56",
   "metadata": {},
   "source": [
    "# Perform EDA\n"
   ]
  },
  {
   "cell_type": "markdown",
   "id": "21cfd39f",
   "metadata": {},
   "source": [
    "To perform ploting we need to import libraries"
   ]
  },
  {
   "cell_type": "code",
   "execution_count": 111,
   "id": "b6b6779d",
   "metadata": {},
   "outputs": [],
   "source": [
    "import seaborn as sns\n",
    "sns.set_theme(style=\"whitegrid\")\n",
    "import matplotlib.pyplot as plt"
   ]
  },
  {
   "cell_type": "code",
   "execution_count": 112,
   "id": "85c1106a",
   "metadata": {},
   "outputs": [
    {
     "data": {
      "text/html": [
       "<div>\n",
       "<style scoped>\n",
       "    .dataframe tbody tr th:only-of-type {\n",
       "        vertical-align: middle;\n",
       "    }\n",
       "\n",
       "    .dataframe tbody tr th {\n",
       "        vertical-align: top;\n",
       "    }\n",
       "\n",
       "    .dataframe thead th {\n",
       "        text-align: right;\n",
       "    }\n",
       "</style>\n",
       "<table border=\"1\" class=\"dataframe\">\n",
       "  <thead>\n",
       "    <tr style=\"text-align: right;\">\n",
       "      <th></th>\n",
       "      <th>User_ID</th>\n",
       "      <th>Product_ID</th>\n",
       "      <th>Gender</th>\n",
       "      <th>Age</th>\n",
       "      <th>Occupation</th>\n",
       "      <th>city</th>\n",
       "      <th>years in city</th>\n",
       "      <th>Marital_Status</th>\n",
       "      <th>Product_Category_1</th>\n",
       "      <th>Product_Category_2</th>\n",
       "      <th>Product_Category_3</th>\n",
       "      <th>Purchase</th>\n",
       "    </tr>\n",
       "  </thead>\n",
       "  <tbody>\n",
       "    <tr>\n",
       "      <th>0</th>\n",
       "      <td>1000001</td>\n",
       "      <td>P00069042</td>\n",
       "      <td>1</td>\n",
       "      <td>Child</td>\n",
       "      <td>10</td>\n",
       "      <td>A</td>\n",
       "      <td>2</td>\n",
       "      <td>0</td>\n",
       "      <td>3</td>\n",
       "      <td>0</td>\n",
       "      <td>0</td>\n",
       "      <td>8370</td>\n",
       "    </tr>\n",
       "  </tbody>\n",
       "</table>\n",
       "</div>"
      ],
      "text/plain": [
       "   User_ID Product_ID  Gender    Age  Occupation city  years in city  \\\n",
       "0  1000001  P00069042       1  Child          10    A              2   \n",
       "\n",
       "   Marital_Status  Product_Category_1  Product_Category_2  Product_Category_3  \\\n",
       "0               0                   3                   0                   0   \n",
       "\n",
       "   Purchase  \n",
       "0      8370  "
      ]
     },
     "execution_count": 112,
     "metadata": {},
     "output_type": "execute_result"
    }
   ],
   "source": [
    "black_fri.head(1)"
   ]
  },
  {
   "cell_type": "markdown",
   "id": "df2d6d6c",
   "metadata": {},
   "source": [
    "* visualize individul column"
   ]
  },
  {
   "cell_type": "markdown",
   "id": "2a98f186",
   "metadata": {},
   "source": [
    "Gender column"
   ]
  },
  {
   "cell_type": "code",
   "execution_count": 113,
   "id": "fab2c5c2",
   "metadata": {},
   "outputs": [
    {
     "data": {
      "text/plain": [
       "<AxesSubplot:xlabel='Gender', ylabel='count'>"
      ]
     },
     "execution_count": 113,
     "metadata": {},
     "output_type": "execute_result"
    },
    {
     "data": {
      "image/png": "[encoded data removed]",
      "text/plain": [
       "<Figure size 432x288 with 1 Axes>"
      ]
     },
     "metadata": {},
     "output_type": "display_data"
    }
   ],
   "source": [
    "sns.countplot(x='Gender',data=black_fri,palette='plasma',hue='Gender')\n"
   ]
  },
  {
   "cell_type": "markdown",
   "id": "a14a848c",
   "metadata": {},
   "source": [
    "So by the plot there are more than 400000 male customers & female customers are in between 100000 to 150000.\n",
    "\n"
   ]
  },
  {
   "cell_type": "markdown",
   "id": "597a6eb9",
   "metadata": {},
   "source": [
    " * Age column\n",
    "\n"
   ]
  },
  {
   "cell_type": "code",
   "execution_count": 114,
   "id": "9fa193f9",
   "metadata": {},
   "outputs": [
    {
     "data": {
      "text/plain": [
       "<AxesSubplot:xlabel='Age', ylabel='count'>"
      ]
     },
     "execution_count": 114,
     "metadata": {},
     "output_type": "execute_result"
    },
    {
     "data": {
      "image/png": "[encoded data removed]",
      "text/plain": [
       "<Figure size 432x288 with 1 Axes>"
      ]
     },
     "metadata": {},
     "output_type": "display_data"
    }
   ],
   "source": [
    "sns.countplot(x='Age',data=black_fri,palette='hot')\n"
   ]
  },
  {
   "cell_type": "markdown",
   "id": "2a84fcc3",
   "metadata": {},
   "source": [
    "Here Adult age group is higher in count, Teenage is around 100000, old age group is more than 50000 & child age group is near to 0.\n",
    "\n",
    "So, child & Old age group has less count in dataset"
   ]
  },
  {
   "cell_type": "markdown",
   "id": "61c46541",
   "metadata": {},
   "source": [
    "* Occupation , city , years in city , Marital_Status columns"
   ]
  },
  {
   "cell_type": "code",
   "execution_count": 41,
   "id": "03e145e7",
   "metadata": {},
   "outputs": [
    {
     "data": {
      "image/png": "[encoded data removed]",
      "text/plain": [
       "<Figure size 720x432 with 4 Axes>"
      ]
     },
     "metadata": {},
     "output_type": "display_data"
    }
   ],
   "source": [
    "fig,ax=plt.subplots(2,2, figsize=(10,6))\n",
    "######## occupation #########\n",
    "sns.countplot(x='Occupation',data=black_fri,ax = ax[0,0])\n",
    "ax[0,0].set_title('Occupation') \n",
    "######## city #########\n",
    "sns.countplot(x='city',data=black_fri,ax = ax[0,1])\n",
    "ax[0,1].set_title('city') \n",
    "######## years in city #########\n",
    "sns.countplot(x='years in city',data=black_fri,ax = ax[1,0])\n",
    "ax[1,0].set_title('years in city') \n",
    "######## Marital_Status #########\n",
    "sns.countplot(x='Marital_Status',data=black_fri,ax = ax[1,1])\n",
    "ax[1,1].set_title('Marital_Status') \n",
    "\n",
    "plt.tight_layout()\n",
    "plt.show()"
   ]
  },
  {
   "cell_type": "markdown",
   "id": "9f487fd3",
   "metadata": {},
   "source": [
    "1* Occupation: In our dataset occupation 0,4 & 7 is high in count.\n",
    "\n",
    "2* City: city B counted more than other two cities.\n",
    "\n",
    "3* years in city: Customers who completed 1 year in city are nearly 200000.\n",
    "\n",
    "4* Marrital status: Unmarried customers's count more than married customers."
   ]
  },
  {
   "cell_type": "markdown",
   "id": "3a30c181",
   "metadata": {},
   "source": [
    "* Product_Category_1,Product_Category_2 & Product_Category_3 columns"
   ]
  },
  {
   "cell_type": "code",
   "execution_count": 42,
   "id": "53d201f7",
   "metadata": {},
   "outputs": [
    {
     "data": {
      "text/plain": [
       "<AxesSubplot:xlabel='Product_Category_1', ylabel='count'>"
      ]
     },
     "execution_count": 42,
     "metadata": {},
     "output_type": "execute_result"
    },
    {
     "data": {
      "image/png": "[encoded data removed]",
      "text/plain": [
       "<Figure size 432x288 with 1 Axes>"
      ]
     },
     "metadata": {},
     "output_type": "display_data"
    }
   ],
   "source": [
    "sns.countplot(x='Product_Category_1',data=black_fri,palette='hot')\n"
   ]
  },
  {
   "cell_type": "markdown",
   "id": "b74e8dbf",
   "metadata": {},
   "source": [
    "In Product_Category_1 column 5 & 1 product category counted more than others. 1 is around 140000 & 5 is more than 140000.\n",
    "\n"
   ]
  },
  {
   "cell_type": "code",
   "execution_count": 43,
   "id": "33049610",
   "metadata": {},
   "outputs": [
    {
     "data": {
      "text/plain": [
       "<AxesSubplot:xlabel='Product_Category_2', ylabel='count'>"
      ]
     },
     "execution_count": 43,
     "metadata": {},
     "output_type": "execute_result"
    },
    {
     "data": {
      "image/png": "[encoded data removed]",
      "text/plain": [
       "<Figure size 432x288 with 1 Axes>"
      ]
     },
     "metadata": {},
     "output_type": "display_data"
    }
   ],
   "source": [
    "sns.countplot(x='Product_Category_2',data=black_fri,palette='hot')\n"
   ]
  },
  {
   "cell_type": "markdown",
   "id": "a1f2c370",
   "metadata": {},
   "source": [
    "In Product_Category_2 column 0 counted more than others & it is around 175000. So custmores not bought items in this category, very few amount of people bought from 8 & 14 category."
   ]
  },
  {
   "cell_type": "code",
   "execution_count": 44,
   "id": "06be8908",
   "metadata": {},
   "outputs": [
    {
     "data": {
      "text/plain": [
       "<AxesSubplot:xlabel='Product_Category_3', ylabel='count'>"
      ]
     },
     "execution_count": 44,
     "metadata": {},
     "output_type": "execute_result"
    },
    {
     "data": {
      "image/png": "[encoded data removed]",
      "text/plain": [
       "<Figure size 432x288 with 1 Axes>"
      ]
     },
     "metadata": {},
     "output_type": "display_data"
    }
   ],
   "source": [
    "sns.countplot(x='Product_Category_3',data=black_fri,palette='hot')\n"
   ]
  },
  {
   "cell_type": "markdown",
   "id": "719d04bb",
   "metadata": {},
   "source": [
    "Customers not bought any item from this category. 0 count is more.\n",
    "\n"
   ]
  },
  {
   "cell_type": "markdown",
   "id": "26bd488b",
   "metadata": {},
   "source": [
    "So, we can conclude that Product_Category_1 is demanding category among all custmores because in Product_Category_2 & Product_Category_3 0 count is more as we know we replace NaN values to 0."
   ]
  },
  {
   "cell_type": "markdown",
   "id": "d14c8428",
   "metadata": {},
   "source": [
    "* Purchase Distribution"
   ]
  },
  {
   "cell_type": "code",
   "execution_count": 45,
   "id": "86f65d3d",
   "metadata": {},
   "outputs": [
    {
     "name": "stderr",
     "output_type": "stream",
     "text": [
      "/Users/mohithihoriya/opt/anaconda3/lib/python3.8/site-packages/seaborn/distributions.py:2557: FutureWarning: `distplot` is a deprecated function and will be removed in a future version. Please adapt your code to use either `displot` (a figure-level function with similar flexibility) or `histplot` (an axes-level function for histograms).\n",
      "  warnings.warn(msg, FutureWarning)\n"
     ]
    },
    {
     "data": {
      "text/plain": [
       "Text(0.5, 1.0, 'Distribution')"
      ]
     },
     "execution_count": 45,
     "metadata": {},
     "output_type": "execute_result"
    },
    {
     "data": {
      "image/png": "[encoded data removed]",
      "text/plain": [
       "<Figure size 432x432 with 1 Axes>"
      ]
     },
     "metadata": {},
     "output_type": "display_data"
    }
   ],
   "source": [
    "fig, axes = plt.subplots(nrows=1,ncols=1 ,figsize=(6,6))\n",
    "\n",
    "sns.distplot(x=black_fri['Purchase'])\n",
    "axes.set_title('Distribution')\n"
   ]
  },
  {
   "cell_type": "markdown",
   "id": "ab8f2bc4",
   "metadata": {},
   "source": [
    "* check for outliers"
   ]
  },
  {
   "cell_type": "code",
   "execution_count": 46,
   "id": "2d5f790b",
   "metadata": {},
   "outputs": [
    {
     "data": {
      "text/plain": [
       "Text(0.5, 1.0, 'Outliers')"
      ]
     },
     "execution_count": 46,
     "metadata": {},
     "output_type": "execute_result"
    },
    {
     "data": {
      "image/png": "[encoded data removed]",
      "text/plain": [
       "<Figure size 864x432 with 1 Axes>"
      ]
     },
     "metadata": {},
     "output_type": "display_data"
    }
   ],
   "source": [
    "fig, axes = plt.subplots(nrows=1,ncols=1 ,figsize=(12,6))\n",
    "sns.boxplot(x='Purchase', data=black_fri, palette='rainbow')\n",
    "axes.set_title('Outliers')\n"
   ]
  },
  {
   "cell_type": "markdown",
   "id": "833218e6",
   "metadata": {},
   "source": [
    "In this plot there are some outliers near to 25000. Some custmers purchase products more than normal count.\n",
    "\n"
   ]
  },
  {
   "cell_type": "code",
   "execution_count": 47,
   "id": "b3966192",
   "metadata": {},
   "outputs": [
    {
     "data": {
      "text/plain": [
       "<AxesSubplot:xlabel='Purchase'>"
      ]
     },
     "execution_count": 47,
     "metadata": {},
     "output_type": "execute_result"
    },
    {
     "data": {
      "image/png": "[encoded data removed]",
      "text/plain": [
       "<Figure size 432x432 with 1 Axes>"
      ]
     },
     "metadata": {},
     "output_type": "display_data"
    }
   ],
   "source": [
    "fig, axes = plt.subplots(nrows=1,ncols=1 ,figsize=(6,6))\n",
    "sns.violinplot(x='Purchase',data=black_fri,palette=\"rocket_r\")"
   ]
  },
  {
   "cell_type": "markdown",
   "id": "1cc1ba36",
   "metadata": {},
   "source": [
    "The violin plot gives kernel density estimation of the underlying distribution. In this plot the curves shows that high purchase rate is between 5000 to 10000.\n",
    "\n"
   ]
  },
  {
   "cell_type": "code",
   "execution_count": null,
   "id": "e07ecd65",
   "metadata": {},
   "outputs": [],
   "source": []
  },
  {
   "cell_type": "markdown",
   "id": "f3b99fca",
   "metadata": {},
   "source": [
    "Analysis by Gender, Marital Status, occupation, occupation vs purchase , purchase by city, purchase by age group\n"
   ]
  },
  {
   "cell_type": "markdown",
   "id": "d4003cd8",
   "metadata": {},
   "source": [
    "1)Gender\n",
    "\n"
   ]
  },
  {
   "cell_type": "code",
   "execution_count": 48,
   "id": "d763a705",
   "metadata": {},
   "outputs": [
    {
     "data": {
      "text/html": [
       "<div>\n",
       "<style scoped>\n",
       "    .dataframe tbody tr th:only-of-type {\n",
       "        vertical-align: middle;\n",
       "    }\n",
       "\n",
       "    .dataframe tbody tr th {\n",
       "        vertical-align: top;\n",
       "    }\n",
       "\n",
       "    .dataframe thead th {\n",
       "        text-align: right;\n",
       "    }\n",
       "</style>\n",
       "<table border=\"1\" class=\"dataframe\">\n",
       "  <thead>\n",
       "    <tr style=\"text-align: right;\">\n",
       "      <th></th>\n",
       "      <th>Gender</th>\n",
       "      <th>Purchase</th>\n",
       "    </tr>\n",
       "  </thead>\n",
       "  <tbody>\n",
       "    <tr>\n",
       "      <th>0</th>\n",
       "      <td>0</td>\n",
       "      <td>9437.526040</td>\n",
       "    </tr>\n",
       "    <tr>\n",
       "      <th>1</th>\n",
       "      <td>1</td>\n",
       "      <td>8734.565765</td>\n",
       "    </tr>\n",
       "  </tbody>\n",
       "</table>\n",
       "</div>"
      ],
      "text/plain": [
       "   Gender     Purchase\n",
       "0       0  9437.526040\n",
       "1       1  8734.565765"
      ]
     },
     "execution_count": 48,
     "metadata": {},
     "output_type": "execute_result"
    }
   ],
   "source": [
    "df1=black_fri.groupby('Gender').agg({'Purchase':'mean'})\n",
    "df1.reset_index(inplace=True)\n",
    "df1"
   ]
  },
  {
   "cell_type": "code",
   "execution_count": 49,
   "id": "02c23bfe",
   "metadata": {},
   "outputs": [
    {
     "name": "stderr",
     "output_type": "stream",
     "text": [
      "/Users/mohithihoriya/opt/anaconda3/lib/python3.8/site-packages/pandas/plotting/_matplotlib/core.py:503: UserWarning: Attempting to set identical bottom == top == 0.1 results in singular transformations; automatically expanding.\n",
      "  ax.set_ylim(self.ylim)\n"
     ]
    },
    {
     "data": {
      "text/plain": [
       "<matplotlib.legend.Legend at 0x7f9ad81bd040>"
      ]
     },
     "execution_count": 49,
     "metadata": {},
     "output_type": "execute_result"
    },
    {
     "data": {
      "image/png": "[encoded data removed]",
      "text/plain": [
       "<Figure size 360x360 with 1 Axes>"
      ]
     },
     "metadata": {},
     "output_type": "display_data"
    }
   ],
   "source": [
    "df1.plot.pie(y='Purchase', figsize=(5, 5),xlim=(2,0.2),ylim=(0.1,0.1),cmap='flag')\n",
    "plt.plot(0, label=\"Male\")\n",
    "plt.plot(1, label=\"Feamle\")\n",
    "  \n",
    "plt.legend(loc='center left')"
   ]
  },
  {
   "cell_type": "markdown",
   "id": "d53a0978",
   "metadata": {},
   "source": [
    "Here purchase rate of male customers is quite higher than female customers.\n",
    "\n"
   ]
  },
  {
   "cell_type": "markdown",
   "id": "f509dd04",
   "metadata": {},
   "source": [
    "2)Marital Status\n",
    "\n"
   ]
  },
  {
   "cell_type": "code",
   "execution_count": 50,
   "id": "608b37cf",
   "metadata": {},
   "outputs": [
    {
     "name": "stderr",
     "output_type": "stream",
     "text": [
      "/Users/mohithihoriya/opt/anaconda3/lib/python3.8/site-packages/pandas/plotting/_matplotlib/core.py:503: UserWarning: Attempting to set identical bottom == top == 0.1 results in singular transformations; automatically expanding.\n",
      "  ax.set_ylim(self.ylim)\n"
     ]
    },
    {
     "data": {
      "text/plain": [
       "<matplotlib.legend.Legend at 0x7f9b293b6a60>"
      ]
     },
     "execution_count": 50,
     "metadata": {},
     "output_type": "execute_result"
    },
    {
     "data": {
      "image/png": "[encoded data removed]",
      "text/plain": [
       "<Figure size 360x360 with 1 Axes>"
      ]
     },
     "metadata": {},
     "output_type": "display_data"
    }
   ],
   "source": [
    "df2=black_fri.groupby('Marital_Status').agg({'Purchase':'mean'})\n",
    "df2.reset_index(inplace=True)\n",
    "df2.plot.pie(y='Purchase', figsize=(5, 5),xlim=(2,0.2),ylim=(0.1,0.1))\n",
    "plt.plot(0, label=\"unmarried\")\n",
    "plt.plot(1, label=\"married\")\n",
    "plt.legend(loc='center left')"
   ]
  },
  {
   "cell_type": "markdown",
   "id": "5bdf969e",
   "metadata": {},
   "source": [
    "Both married & unmarried customers purchase product equally.\n",
    "\n"
   ]
  },
  {
   "cell_type": "code",
   "execution_count": 51,
   "id": "83da4e86",
   "metadata": {},
   "outputs": [
    {
     "data": {
      "text/html": [
       "<div>\n",
       "<style scoped>\n",
       "    .dataframe tbody tr th:only-of-type {\n",
       "        vertical-align: middle;\n",
       "    }\n",
       "\n",
       "    .dataframe tbody tr th {\n",
       "        vertical-align: top;\n",
       "    }\n",
       "\n",
       "    .dataframe thead th {\n",
       "        text-align: right;\n",
       "    }\n",
       "</style>\n",
       "<table border=\"1\" class=\"dataframe\">\n",
       "  <thead>\n",
       "    <tr style=\"text-align: right;\">\n",
       "      <th></th>\n",
       "      <th>User_ID</th>\n",
       "      <th>Product_ID</th>\n",
       "      <th>Gender</th>\n",
       "      <th>Age</th>\n",
       "      <th>Occupation</th>\n",
       "      <th>city</th>\n",
       "      <th>years in city</th>\n",
       "      <th>Marital_Status</th>\n",
       "      <th>Product_Category_1</th>\n",
       "      <th>Product_Category_2</th>\n",
       "      <th>Product_Category_3</th>\n",
       "      <th>Purchase</th>\n",
       "    </tr>\n",
       "  </thead>\n",
       "  <tbody>\n",
       "    <tr>\n",
       "      <th>0</th>\n",
       "      <td>1000001</td>\n",
       "      <td>P00069042</td>\n",
       "      <td>1</td>\n",
       "      <td>Child</td>\n",
       "      <td>10</td>\n",
       "      <td>A</td>\n",
       "      <td>2</td>\n",
       "      <td>0</td>\n",
       "      <td>3</td>\n",
       "      <td>0</td>\n",
       "      <td>0</td>\n",
       "      <td>8370</td>\n",
       "    </tr>\n",
       "    <tr>\n",
       "      <th>1</th>\n",
       "      <td>1000001</td>\n",
       "      <td>P00248942</td>\n",
       "      <td>1</td>\n",
       "      <td>Child</td>\n",
       "      <td>10</td>\n",
       "      <td>A</td>\n",
       "      <td>2</td>\n",
       "      <td>0</td>\n",
       "      <td>1</td>\n",
       "      <td>6</td>\n",
       "      <td>14</td>\n",
       "      <td>15200</td>\n",
       "    </tr>\n",
       "  </tbody>\n",
       "</table>\n",
       "</div>"
      ],
      "text/plain": [
       "   User_ID Product_ID  Gender    Age  Occupation city  years in city  \\\n",
       "0  1000001  P00069042       1  Child          10    A              2   \n",
       "1  1000001  P00248942       1  Child          10    A              2   \n",
       "\n",
       "   Marital_Status  Product_Category_1  Product_Category_2  Product_Category_3  \\\n",
       "0               0                   3                   0                   0   \n",
       "1               0                   1                   6                  14   \n",
       "\n",
       "   Purchase  \n",
       "0      8370  \n",
       "1     15200  "
      ]
     },
     "execution_count": 51,
     "metadata": {},
     "output_type": "execute_result"
    }
   ],
   "source": [
    "black_fri.head(2)\n"
   ]
  },
  {
   "cell_type": "markdown",
   "id": "25bb08c6",
   "metadata": {},
   "source": [
    "1.occupation & occupation vs purchase\n"
   ]
  },
  {
   "cell_type": "code",
   "execution_count": 52,
   "id": "25a4b038",
   "metadata": {},
   "outputs": [
    {
     "data": {
      "text/plain": [
       "<AxesSubplot:xlabel='Occupation', ylabel='count'>"
      ]
     },
     "execution_count": 52,
     "metadata": {},
     "output_type": "execute_result"
    },
    {
     "data": {
      "image/png": "[encoded data removed]",
      "text/plain": [
       "<Figure size 432x288 with 1 Axes>"
      ]
     },
     "metadata": {},
     "output_type": "display_data"
    }
   ],
   "source": [
    "sns.countplot(x='Occupation',data=black_fri,palette='plasma')\n"
   ]
  },
  {
   "cell_type": "markdown",
   "id": "ce7f3f4c",
   "metadata": {},
   "source": [
    "In our dataset occupation 0,4 & 7 is high in count.\n",
    "\n"
   ]
  },
  {
   "cell_type": "code",
   "execution_count": 53,
   "id": "00849ecd",
   "metadata": {},
   "outputs": [
    {
     "data": {
      "text/plain": [
       "<AxesSubplot:xlabel='Occupation', ylabel='Purchase'>"
      ]
     },
     "execution_count": 53,
     "metadata": {},
     "output_type": "execute_result"
    },
    {
     "data": {
      "image/png": "[encoded data removed]",
      "text/plain": [
       "<Figure size 720x432 with 1 Axes>"
      ]
     },
     "metadata": {},
     "output_type": "display_data"
    }
   ],
   "source": [
    "df3=black_fri.groupby('Occupation').agg({'Purchase':'count'})\n",
    "df3.reset_index(inplace=True)\n",
    "df3.plot(x='Occupation',y='Purchase',ylabel='Purchase',kind='bar',figsize=(10,6))\n"
   ]
  },
  {
   "cell_type": "markdown",
   "id": "50870751",
   "metadata": {},
   "source": [
    "Here 0,5 & 7 occupation purchase more products than other occupation.\n",
    "\n",
    "Looking at the plot 8,9,13,18,19 occupation purchased less than 100000.\n",
    "\n",
    "and 10,11 occupation purchased less than 200000"
   ]
  },
  {
   "cell_type": "markdown",
   "id": "4fc3eeb0",
   "metadata": {},
   "source": [
    "1.purchase by city"
   ]
  },
  {
   "cell_type": "code",
   "execution_count": 54,
   "id": "e348019a",
   "metadata": {},
   "outputs": [
    {
     "data": {
      "text/plain": [
       "<AxesSubplot:xlabel='city'>"
      ]
     },
     "execution_count": 54,
     "metadata": {},
     "output_type": "execute_result"
    },
    {
     "data": {
      "image/png": "[encoded data removed]",
      "text/plain": [
       "<Figure size 432x288 with 1 Axes>"
      ]
     },
     "metadata": {},
     "output_type": "display_data"
    }
   ],
   "source": [
    "df4=black_fri.groupby('city').agg({'Purchase':'count'})\n",
    "df4.reset_index(inplace=True)\n",
    "df4.plot(kind='bar',x='city',y='Purchase',cmap='plasma')"
   ]
  },
  {
   "cell_type": "markdown",
   "id": "ff65bd8c",
   "metadata": {},
   "source": [
    "City B purchased more than other two cities. B purchased more than 200000."
   ]
  },
  {
   "cell_type": "markdown",
   "id": "e3c4dc41",
   "metadata": {},
   "source": [
    "1.purchase by age & Age vs Purchased"
   ]
  },
  {
   "cell_type": "code",
   "execution_count": 56,
   "id": "d2d0a6be",
   "metadata": {},
   "outputs": [
    {
     "data": {
      "text/plain": [
       "<AxesSubplot:xlabel='Age', ylabel='Purchase'>"
      ]
     },
     "execution_count": 56,
     "metadata": {},
     "output_type": "execute_result"
    },
    {
     "data": {
      "image/png": "[encoded data removed]",
      "text/plain": [
       "<Figure size 216x432 with 1 Axes>"
      ]
     },
     "metadata": {},
     "output_type": "display_data"
    }
   ],
   "source": [
    "df5=black_fri.groupby('Age').agg({'Purchase':'count'})\n",
    "df5.reset_index(inplace=True)\n",
    "df5.plot(kind='bar',x='Age',y='Purchase',cmap='plasma',figsize=(3,6),ylabel='Purchase',legend=False)"
   ]
  },
  {
   "cell_type": "markdown",
   "id": "51010933",
   "metadata": {},
   "source": [
    "Here, Adult age group purchased more than 350000.\n",
    "\n",
    "Comparitively, Child,Old,Teenage purchase less than 100000."
   ]
  },
  {
   "cell_type": "code",
   "execution_count": null,
   "id": "2c11c04b",
   "metadata": {},
   "outputs": [],
   "source": []
  },
  {
   "cell_type": "markdown",
   "id": "27be4445",
   "metadata": {},
   "source": [
    "* Productcategory1 vs Purchased\n",
    "* Productcategory2 vs Purchased\n",
    "* Productcategory3 vs Purchased"
   ]
  },
  {
   "cell_type": "code",
   "execution_count": 57,
   "id": "7740ee8d",
   "metadata": {},
   "outputs": [
    {
     "data": {
      "text/plain": [
       "<AxesSubplot:xlabel='Product_Category_1', ylabel='Purchase'>"
      ]
     },
     "execution_count": 57,
     "metadata": {},
     "output_type": "execute_result"
    },
    {
     "data": {
      "image/png": "[encoded data removed]",
      "text/plain": [
       "<Figure size 504x504 with 1 Axes>"
      ]
     },
     "metadata": {},
     "output_type": "display_data"
    }
   ],
   "source": [
    "df6=black_fri.groupby('Product_Category_1').agg({'Purchase':'count'})\n",
    "df6.reset_index(inplace=True)\n",
    "df6.plot(kind='bar',x='Product_Category_1',y='Purchase',ylabel='Purchase',cmap='hot',figsize=(7,7))"
   ]
  },
  {
   "cell_type": "markdown",
   "id": "13afcd60",
   "metadata": {},
   "source": [
    "By this plot product category 1,5 & 8 purchased more than others.\n",
    "\n",
    "Product 5 is high purchased item by customers."
   ]
  },
  {
   "cell_type": "code",
   "execution_count": 58,
   "id": "143f5f60",
   "metadata": {},
   "outputs": [
    {
     "data": {
      "text/plain": [
       "<AxesSubplot:xlabel='Product_Category_2', ylabel='Purchase'>"
      ]
     },
     "execution_count": 58,
     "metadata": {},
     "output_type": "execute_result"
    },
    {
     "data": {
      "image/png": "[encoded data removed]",
      "text/plain": [
       "<Figure size 504x504 with 1 Axes>"
      ]
     },
     "metadata": {},
     "output_type": "display_data"
    }
   ],
   "source": [
    "df7=black_fri.groupby('Product_Category_2').agg({'Purchase':'count'})\n",
    "df7.reset_index(inplace=True)\n",
    "df7.plot(kind='bar',x='Product_Category_2',y='Purchase',ylabel='Purchase',cmap='hot',figsize=(7,7))"
   ]
  },
  {
   "cell_type": "markdown",
   "id": "4beaa327",
   "metadata": {},
   "source": [
    "By this plot product category 2,8 & 14 purchased averagely than others.\n",
    "\n",
    "But product 0 is high in count near to 175000, so many customers not purchase any item from this category."
   ]
  },
  {
   "cell_type": "code",
   "execution_count": 59,
   "id": "1e83b79e",
   "metadata": {},
   "outputs": [
    {
     "data": {
      "text/plain": [
       "<AxesSubplot:xlabel='Product_Category_3', ylabel='Purchase'>"
      ]
     },
     "execution_count": 59,
     "metadata": {},
     "output_type": "execute_result"
    },
    {
     "data": {
      "image/png": "[encoded data removed]",
      "text/plain": [
       "<Figure size 504x504 with 1 Axes>"
      ]
     },
     "metadata": {},
     "output_type": "display_data"
    }
   ],
   "source": [
    "df8=black_fri.groupby('Product_Category_3').agg({'Purchase':'count'})\n",
    "df8.reset_index(inplace=True)\n",
    "df8.plot(kind='bar',x='Product_Category_3',y='Purchase',ylabel='Purchase',cmap='hot',figsize=(7,7))"
   ]
  },
  {
   "cell_type": "markdown",
   "id": "8d57309a",
   "metadata": {},
   "source": [
    "By looking at Product_Category_3 plot so many customers not purchase any item, few amount of customers bought from this category.\n",
    "\n",
    "So, plot for all product categories against purchase shows that Product_Category_1 is most popular product category among all categories. Product_Category_2 is averagly popular & Product_Category_3 is not so popular."
   ]
  },
  {
   "cell_type": "markdown",
   "id": "84b5c8bc",
   "metadata": {},
   "source": [
    "* City category pie chart"
   ]
  },
  {
   "cell_type": "code",
   "execution_count": 61,
   "id": "856d1de2",
   "metadata": {},
   "outputs": [
    {
     "name": "stderr",
     "output_type": "stream",
     "text": [
      "/Users/mohithihoriya/opt/anaconda3/lib/python3.8/site-packages/pandas/plotting/_matplotlib/core.py:503: UserWarning: Attempting to set identical bottom == top == 0.1 results in singular transformations; automatically expanding.\n",
      "  ax.set_ylim(self.ylim)\n"
     ]
    },
    {
     "data": {
      "text/plain": [
       "<matplotlib.legend.Legend at 0x7f9af8e80a00>"
      ]
     },
     "execution_count": 61,
     "metadata": {},
     "output_type": "execute_result"
    },
    {
     "data": {
      "image/png": "[encoded data removed]",
      "text/plain": [
       "<Figure size 360x360 with 1 Axes>"
      ]
     },
     "metadata": {},
     "output_type": "display_data"
    }
   ],
   "source": [
    "df9=black_fri.groupby('city').count()\n",
    "df9.plot(kind='pie',y='Purchase',figsize=(5,5),xlim=(2,0.2),ylim=(0.1,0.1))\n",
    "plt.legend(loc='center left')"
   ]
  },
  {
   "cell_type": "markdown",
   "id": "2119965f",
   "metadata": {},
   "source": [
    "So, here city B purchased more than other two cities"
   ]
  },
  {
   "cell_type": "markdown",
   "id": "981ec2ce",
   "metadata": {},
   "source": [
    "* product catgory 1 vs Gender,Age,Occupation,city,years in city,Marital_Status."
   ]
  },
  {
   "cell_type": "code",
   "execution_count": 62,
   "id": "75f9c14f",
   "metadata": {},
   "outputs": [
    {
     "data": {
      "image/png": "[encoded data removed]",
      "text/plain": [
       "<Figure size 1080x720 with 6 Axes>"
      ]
     },
     "metadata": {},
     "output_type": "display_data"
    }
   ],
   "source": [
    "########### Gender #########\n",
    "df10=black_fri.groupby('Gender').agg({'Product_Category_1':'count'})\n",
    "df10.reset_index(inplace=True)\n",
    "\n",
    "\n",
    "########### Age ####\n",
    "df11=black_fri.groupby('Age').agg({'Product_Category_1':'count'})\n",
    "df11.reset_index(inplace=True)\n",
    "\n",
    "\n",
    "########### Occupation #########\n",
    "df12=black_fri.groupby('Occupation').agg({'Product_Category_1':'count'})\n",
    "df12.reset_index(inplace=True)\n",
    "\n",
    "\n",
    "########### city#######\n",
    "df13=black_fri.groupby('city').agg({'Product_Category_1':'count'})\n",
    "df13.reset_index(inplace=True)\n",
    "\n",
    "########### years in city #########\n",
    "df14=black_fri.groupby('years in city').agg({'Product_Category_1':'count'})\n",
    "df14.reset_index(inplace=True)\n",
    "\n",
    "\n",
    "########### Marital_Status ########\n",
    "df15=black_fri.groupby('Marital_Status').agg({'Product_Category_1':'count'})\n",
    "df15.reset_index(inplace=True)\n",
    "\n",
    "############\n",
    "\n",
    "fig,ax=plt.subplots(3,2, figsize=(15,10))\n",
    "\n",
    "###### Gender ########\n",
    "sns.barplot(x='Gender',y='Product_Category_1',data=df10,ax = ax[0,0])\n",
    "ax[0,0].set_title('Gender') \n",
    "\n",
    "######## Age #########\n",
    "sns.barplot(x='Age',y='Product_Category_1',data=df11,ax = ax[0,1])\n",
    "ax[0,1].set_title('Age') \n",
    "\n",
    "######## occupation #########\n",
    "sns.barplot(x='Occupation',y='Product_Category_1',data=df12,ax = ax[1,0])\n",
    "ax[1,0].set_title('Occupation') \n",
    "\n",
    "######## city #########\n",
    "sns.barplot(x='city',y='Product_Category_1',data=df13,ax = ax[1,1])\n",
    "ax[1,1].set_title('city') \n",
    "\n",
    "######## years in city #########\n",
    "sns.barplot(x='years in city',y='Product_Category_1',data=df14,ax = ax[2,0])\n",
    "ax[2,0].set_title('years in city') \n",
    "\n",
    "######## Marital_Status #########\n",
    "sns.barplot(x='Marital_Status',y='Product_Category_1',data=df15,ax = ax[2,1])\n",
    "ax[2,1].set_title('Marital_Status') \n",
    "\n",
    "plt.tight_layout()\n",
    "plt.show()"
   ]
  },
  {
   "cell_type": "markdown",
   "id": "3caff120",
   "metadata": {},
   "source": [
    "1)So,Product_Category_1 count is more in male customers than female customers.\n",
    "\n",
    "2)Adult age group is counted more in Product_Category_1.\n",
    "\n",
    "3)4,0 & 7 occupation purchase more.\n",
    "\n",
    "4)High count of puchased items are from city B.\n",
    "\n",
    "5)Those who completed 1 year in city purchase many items from this category. Customers who completed more than 2 to 4 years puchased averagely.\n",
    "\n",
    "6)Unmarried customers purhased more than married customers."
   ]
  },
  {
   "cell_type": "markdown",
   "id": "632a2980",
   "metadata": {},
   "source": [
    "* Product_catgory_2 vs Gender,Age,Occupation,city,years in city,Marital_Status."
   ]
  },
  {
   "cell_type": "code",
   "execution_count": 63,
   "id": "d613253e",
   "metadata": {},
   "outputs": [
    {
     "data": {
      "image/png": "[encoded data removed]",
      "text/plain": [
       "<Figure size 1080x720 with 6 Axes>"
      ]
     },
     "metadata": {},
     "output_type": "display_data"
    }
   ],
   "source": [
    "########### Gender #########\n",
    "df16=black_fri.groupby('Gender').agg({'Product_Category_2':'sum'})\n",
    "df16.reset_index(inplace=True)\n",
    "\n",
    "\n",
    "########### Age ####\n",
    "df17=black_fri.groupby('Age').agg({'Product_Category_2':'sum'})\n",
    "df17.reset_index(inplace=True)\n",
    "\n",
    "\n",
    "########### Occupation #########\n",
    "df18=black_fri.groupby('Occupation').agg({'Product_Category_2':'sum'})\n",
    "df18.reset_index(inplace=True)\n",
    "\n",
    "\n",
    "########### city#######\n",
    "df19=black_fri.groupby('city').agg({'Product_Category_2':'sum'})\n",
    "df19.reset_index(inplace=True)\n",
    "\n",
    "\n",
    "########### years in city #########\n",
    "df20=black_fri.groupby('years in city').agg({'Product_Category_2':'sum'})\n",
    "df20.reset_index(inplace=True)\n",
    "\n",
    "########### Marital_Status ########\n",
    "df21=black_fri.groupby('Marital_Status').agg({'Product_Category_2':'sum'})\n",
    "df21.reset_index(inplace=True)\n",
    "\n",
    "############\n",
    "\n",
    "fig,ax=plt.subplots(3,2, figsize=(15,10))\n",
    "\n",
    "###### Gender ########\n",
    "sns.barplot(x='Gender',y='Product_Category_2',data=df16,ax = ax[0,0])\n",
    "ax[0,0].set_title('Gender') \n",
    "\n",
    "######## Age #########\n",
    "sns.barplot(x='Age',y='Product_Category_2',data=df17,ax = ax[0,1])\n",
    "ax[0,1].set_title('Age') \n",
    "\n",
    "######## occupation #########\n",
    "sns.barplot(x='Occupation',y='Product_Category_2',data=df18,ax = ax[1,0])\n",
    "ax[1,0].set_title('Occupation') \n",
    "\n",
    "######## city #########\n",
    "sns.barplot(x='city',y='Product_Category_2',data=df19,ax = ax[1,1])\n",
    "ax[1,1].set_title('city') \n",
    "\n",
    "######## years in city #########\n",
    "sns.barplot(x='years in city',y='Product_Category_2',data=df20,ax = ax[2,0])\n",
    "ax[2,0].set_title('years in city') \n",
    "\n",
    "######## Marital_Status #########\n",
    "sns.barplot(x='Marital_Status',y='Product_Category_2',data=df21,ax = ax[2,1])\n",
    "ax[2,1].set_title('Marital_Status') \n",
    "\n",
    "plt.tight_layout()\n",
    "plt.show()"
   ]
  },
  {
   "cell_type": "markdown",
   "id": "f0834f11",
   "metadata": {},
   "source": [
    "1)So, Sum of male customers in Product_Category_2 is more than female customers.\n",
    "\n",
    "2)Sum of adult age group is more in Product_Category_2.\n",
    "\n",
    "3)Sum of purchased items is more in 4,0 & 7 occupation.\n",
    "\n",
    "4)Sum of items puchased is higher in city B.\n",
    "\n",
    "5)Those who completed 1 year in city purchase many items from this category. Customers who completed more than 2 to 4 years puchased averagely.\n",
    "\n",
    "6)Unmarried customers purhased more than married customers."
   ]
  },
  {
   "cell_type": "code",
   "execution_count": 64,
   "id": "297effbe",
   "metadata": {},
   "outputs": [
    {
     "data": {
      "image/png": "[encoded data removed]",
      "text/plain": [
       "<Figure size 1080x720 with 6 Axes>"
      ]
     },
     "metadata": {},
     "output_type": "display_data"
    }
   ],
   "source": [
    "df22=black_fri[black_fri['Product_Category_3']==0]\n",
    "\n",
    "############\n",
    "\n",
    "fig,ax=plt.subplots(3,2, figsize=(15,10))\n",
    "\n",
    "###### Gender ########\n",
    "sns.countplot(x='Gender',data=df22,ax = ax[0,0])\n",
    "ax[0,0].set_title('Gender') \n",
    "\n",
    "######## Age #########\n",
    "sns.countplot(x='Age',data=df22,ax = ax[0,1])\n",
    "ax[0,1].set_title('Age') \n",
    "\n",
    "######## occupation #########\n",
    "sns.countplot(x='Occupation',data=df22,ax = ax[1,0])\n",
    "ax[1,0].set_title('Occupation') \n",
    "\n",
    "######## city #########\n",
    "sns.countplot(x='city',data=df22,ax = ax[1,1])\n",
    "ax[1,1].set_title('city') \n",
    "\n",
    "######## years in city #########\n",
    "sns.countplot(x='years in city',data=df22,ax = ax[2,0])\n",
    "ax[2,0].set_title('years in city') \n",
    "\n",
    "######## Marital_Status #########\n",
    "sns.countplot(x='Marital_Status',data=df22,ax = ax[2,1])\n",
    "ax[2,1].set_title('Marital_Status') \n",
    "\n",
    "plt.tight_layout()\n",
    "plt.show()"
   ]
  },
  {
   "cell_type": "markdown",
   "id": "4a078abd",
   "metadata": {},
   "source": [
    "1) More male customers not bought many items from Product_Category_3 than female customers.\n",
    "\n",
    "2) In 'Age' column adult age group not bought items from Product_Category_3 so, we can say that in Product_Category_3 there are items adult age group cannot bought.\n",
    "\n",
    "3) Occupation 0,4 & 7 not purchased any item from Product_Category_3.\n",
    "\n",
    "4) City B also not bought items from Product_Category_3 its count is more than 150000.\n",
    "\n",
    "5) Who completed more than 1 year in city not bought items from Product_Category_3.\n",
    "\n",
    "6) Who are unmarried not bought items from Product_Category_3.\n",
    "\n",
    "So, we can conclude that Product_Category_3 may contain such items that no any customer can buy."
   ]
  },
  {
   "cell_type": "code",
   "execution_count": null,
   "id": "b1360ddc",
   "metadata": {},
   "outputs": [],
   "source": []
  }
 ],
 "metadata": {
  "kernelspec": {
   "display_name": "Python 3",
   "language": "python",
   "name": "python3"
  },
  "language_info": {
   "codemirror_mode": {
    "name": "ipython",
    "version": 3
   },
   "file_extension": ".py",
   "mimetype": "text/x-python",
   "name": "python",
   "nbconvert_exporter": "python",
   "pygments_lexer": "ipython3",
   "version": "3.8.8"
  }
 },
 "nbformat": 4,
 "nbformat_minor": 5
}
